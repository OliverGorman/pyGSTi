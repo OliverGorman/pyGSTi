{
 "cells": [
  {
   "cell_type": "markdown",
   "metadata": {},
   "source": [
    "# Adding noise to models\n",
    "This tutorial covers how various kinds of noise (errors) can be added to a model's operations.  The procedure for specifying the noise is similar for the different types of models, though the types of noise allowed and how this noise is incorporated into the model's structure differ as we point out below."
   ]
  },
  {
   "cell_type": "code",
   "execution_count": 1,
   "metadata": {},
   "outputs": [],
   "source": [
    "import pygsti\n",
    "from pygsti.models import modelconstruction as mc\n",
    "from pygsti.models import modelnoise as mn"
   ]
  },
  {
   "cell_type": "markdown",
   "metadata": {},
   "source": [
    "## Standard noise types\n",
    "There are three standard types of noise that can be added to operations in pyGSTi: depolarization, stochastic, and Lindbladian.  The first two types are common in the literature, while the third, \"Lindbladian\", needs a bit more explanation.  Many types of gate errors can be represented in terms of an *error generator*.  If $G$ is a noisy gate (a CPTP map) and $G_0$ is it's ideal counterpart, then if we write $G = e^{\\Lambda}G_0$ then $\\Lambda$ is called the gate's *error generator*.  A `LindbladErrorgen` object, exponentiated using a `ExpErrorgenOp` object represent this $e^{\\Lambda}$ in pyGSTi.  If we write $\\Lambda$ as a sum of terms, $\\Lambda = \\sum_i \\alpha_i F_i$ then, when the $F_i$ are specific generators for well-known errors (e.g. rotations or stochastic errors), the $\\alpha_i$ can roughly be interpreted as the error *rates* corresponding to the well-known error types.  PyGSTi has three specific generator types (where $P_i$ is a Pauli operator or tensor product of Pauli operators):\n",
    "\n",
    "- **Hamiltonian**: $F_i = H_i$ where $H_i : \\rho \\rightarrow -i[P_i,\\rho]$\n",
    "- **Stochastic**: $F_i = S_i$ where $S_i : \\rho \\rightarrow P_i \\rho P_i - \\rho$\n",
    "- **Affine**: $F_i = A_i$ where $A_i : \\rho \\rightarrow \\mathrm{Tr}(\\rho_{target})P_i \\otimes \\rho_{non-target}$\n",
    "\n",
    "See our recent paper on [the taxonomy of small errors](https://arxiv.org/abs/2103.01928v1) for a more theoretical foundation of error generators.\n",
    "\n",
    "Many of the model construction functions take arguments that allow users to add these standard noise types conveniently when a model is created.  Each argument expects a dictionary, where the keys are gate names and the values specify the corresponding noise. The values are different types for each argument:\n",
    "\n",
    "- `depolarization_strengths`: Values are floats, which corresponding to strengths of a `DepolarizeOp`\n",
    "- `stochastic_error_probs`: Values are lists of length $4^{N_{qubits} - 1}$, which correspond to coefficients of a stochastic Pauli channel in a `StochasticNoiseOp`. Order of the rates is lexographical, and can be checked by looking at the elements of a `\"pp\"` Basis object.\n",
    "- `lindblad_error_coeffs`: Values are a dict where the key has the form `(<type>, <basis_elements>)` and the values are the $\\alpha_i$ coefficients in the sum of Lindblad terms, which are then exponentiated to give the final noise. The type includes:\n",
    "  - `'H'` for Hamiltonian errors\n",
    "  - `'S'` for Pauli-stochastic and Pauli-correlation errors (S and C in the error generator taxonomy)\n",
    "  - `'A'` for affine errors\n",
    "  \n",
    "  and strings of `I`, `X`, `Y`, and `Z` can be used to label a Pauli basis element. \n",
    "\n",
    "### Crosstalk free (local noise) models\n",
    "We'll start with an example of placing noise on a crosstalk free model."
   ]
  },
  {
   "cell_type": "code",
   "execution_count": 2,
   "metadata": {},
   "outputs": [],
   "source": [
    "pspec = pygsti.processors.QubitProcessorSpec(2, ['Gxpi2', 'Gypi2', 'Gcnot'], geometry='line')\n",
    "\n",
    "mdl_locnoise = pygsti.models.create_crosstalk_free_model(\n",
    "    pspec,\n",
    "    depolarization_strengths={'Gxpi2': 0.1},  # Depolarizing noise on X\n",
    "    stochastic_error_probs={'Gypi2': [0.04, 0.05, 0.02]}, # Stochastic Pauli noise on Y\n",
    "    lindblad_error_coeffs={'Gcnot': {('H','ZZ'): 0.15} } # Hamiltonian ZZ error on CNOT\n",
    ")"
   ]
  },
  {
   "cell_type": "markdown",
   "metadata": {},
   "source": [
    "Let's print out the gates to see the corresponding construction\n",
    "These should all be ComposedOps with the following format:\n",
    " - Op 1: The ideal gate, parameterized by the ideal_gate_type kwarg\n",
    " - Op 2: The noise, as parameterized by whichever noise specification was provided"
   ]
  },
  {
   "cell_type": "code",
   "execution_count": 3,
   "metadata": {},
   "outputs": [
    {
     "name": "stdout",
     "output_type": "stream",
     "text": [
      "Gxpi2\n",
      "Composed operation of 2 factors:\n",
      "Factor 0:\n",
      "StaticStandardOp with name Gxpi2 and evotype densitymx\n",
      "Factor 1:\n",
      "Depolarize noise operation map with dim = 4, num params = 1\n",
      "Strength: [0.1]\n",
      "\n",
      "Gypi2\n",
      "Composed operation of 2 factors:\n",
      "Factor 0:\n",
      "StaticStandardOp with name Gypi2 and evotype densitymx\n",
      "Factor 1:\n",
      "Stochastic noise operation map with state space = QubitSpace((0,)), num params = 3\n",
      "Rates: [0.04 0.05 0.02]\n",
      "\n",
      "Gcnot\n",
      "Composed operation of 2 factors:\n",
      "Factor 0:\n",
      "StaticStandardOp with name Gcnot and evotype densitymx\n",
      "Factor 1:\n",
      "Exponentiated operation map with dim = 16, num params = 1\n",
      "\n"
     ]
    }
   ],
   "source": [
    "for gate_name, gate in mdl_locnoise.operation_blks['gates'].items():\n",
    "    print(gate_name)\n",
    "    print(gate)"
   ]
  },
  {
   "cell_type": "markdown",
   "metadata": {},
   "source": [
    "This can also be seen via the models' `print_modelmembers()` method (see the \"`operation_blks|gates`\" category):"
   ]
  },
  {
   "cell_type": "code",
   "execution_count": 4,
   "metadata": {},
   "outputs": [
    {
     "name": "stdout",
     "output_type": "stream",
     "text": [
      "Modelmember category: prep_blks|layers\n",
      "  rho0: ComputationalBasisState (0) : (contents not available)\n",
      "\n",
      "Modelmember category: povm_blks|layers\n",
      "  Mdefault: ComputationalBasisPOVM (1) : (contents not available)\n",
      "\n",
      "Modelmember category: operation_blks|gates\n",
      "  Gxpi2: ComposedOp (4) : composed of 2 factors\n",
      "    StaticStandardOp (2) : Gxpi2 gate\n",
      "    DepolarizeOp (3) : strength: [0.1]\n",
      "  Gypi2: ComposedOp (7) : composed of 2 factors\n",
      "    StaticStandardOp (5) : Gypi2 gate\n",
      "    StochasticNoiseOp (6) : rates: [0.04 0.05 0.02]\n",
      "  Gcnot: ComposedOp (11) : composed of 2 factors\n",
      "    StaticStandardOp (8) : Gcnot gate\n",
      "    ExpErrorgenOp (10) : exponentiates\n",
      "      LindbladErrorgen (9) : H(ZZ:0,1): 0.15\n",
      "\n",
      "Modelmember category: operation_blks|layers\n",
      "  Gxpi2:0: EmbeddedOp (12) : embeds (0,) into QubitSpace((0, 1))\n",
      "    ComposedOp (4) : --link--^\n",
      "      StaticStandardOp (2) : --link--^\n",
      "      DepolarizeOp (3) : --link--^\n",
      "  Gxpi2:1: EmbeddedOp (13) : embeds (1,) into QubitSpace((0, 1))\n",
      "    ComposedOp (4) : --link--^\n",
      "      StaticStandardOp (2) : --link--^\n",
      "      DepolarizeOp (3) : --link--^\n",
      "  Gypi2:0: EmbeddedOp (14) : embeds (0,) into QubitSpace((0, 1))\n",
      "    ComposedOp (7) : --link--^\n",
      "      StaticStandardOp (5) : --link--^\n",
      "      StochasticNoiseOp (6) : --link--^\n",
      "  Gypi2:1: EmbeddedOp (15) : embeds (1,) into QubitSpace((0, 1))\n",
      "    ComposedOp (7) : --link--^\n",
      "      StaticStandardOp (5) : --link--^\n",
      "      StochasticNoiseOp (6) : --link--^\n",
      "  Gcnot:0:1: ComposedOp (11) : --link--^\n",
      "    StaticStandardOp (8) : --link--^\n",
      "    ExpErrorgenOp (10) : --link--^\n",
      "      LindbladErrorgen (9) : --link--^\n",
      "  Gcnot:1:0: EmbeddedOp (16) : embeds (1, 0) into QubitSpace((0, 1))\n",
      "    ComposedOp (11) : --link--^\n",
      "      StaticStandardOp (8) : --link--^\n",
      "      ExpErrorgenOp (10) : --link--^\n",
      "        LindbladErrorgen (9) : --link--^\n",
      "\n",
      "Modelmember category: instrument_blks|layers\n",
      "\n",
      "Modelmember category: factories|gates\n",
      "\n",
      "Modelmember category: factories|layers\n",
      "\n"
     ]
    }
   ],
   "source": [
    "mdl_locnoise.print_modelmembers()"
   ]
  },
  {
   "cell_type": "markdown",
   "metadata": {},
   "source": [
    "#### Overriding gate noise with layer noise\n",
    "By specifying a *primitive layer label* instead of a gate name as a key, we can modify the noise on a gate when it's applied to a particular qubit.  Note that this *doesn't* require that we set `independent_gates=True` in the construction function, as this argument refers to the ideal gates.  Noise can be separately given to individual primitive layer operation regardless of the values of `independent_gates`.\n",
    "\n",
    "Here's an example where we override the noise on the `Gxpi2` gate.  Notice how the `operation_blks|gates` category has both a `Gxpi2` and `Gxpi2:0` keys."
   ]
  },
  {
   "cell_type": "code",
   "execution_count": 5,
   "metadata": {},
   "outputs": [
    {
     "name": "stdout",
     "output_type": "stream",
     "text": [
      "Modelmember category: prep_blks|layers\n",
      "  rho0: ComputationalBasisState (0) : (contents not available)\n",
      "\n",
      "Modelmember category: povm_blks|layers\n",
      "  Mdefault: ComputationalBasisPOVM (1) : (contents not available)\n",
      "\n",
      "Modelmember category: operation_blks|gates\n",
      "  Gxpi2: ComposedOp (4) : composed of 2 factors\n",
      "    StaticStandardOp (2) : Gxpi2 gate\n",
      "    StochasticNoiseOp (3) : rates: [0.04 0.05 0.02]\n",
      "  Gxpi2:0: ComposedOp (6) : composed of 2 factors\n",
      "    StaticStandardOp (2) : --link--^\n",
      "    StochasticNoiseOp (5) : rates: [0.08 0.1  0.06]\n",
      "  Gypi2: StaticStandardOp (7) : Gypi2 gate\n",
      "  Gcnot: StaticStandardOp (8) : Gcnot gate\n",
      "\n",
      "Modelmember category: operation_blks|layers\n",
      "  Gxpi2:0: EmbeddedOp (9) : embeds (0,) into QubitSpace((0, 1))\n",
      "    ComposedOp (6) : --link--^\n",
      "      StaticStandardOp (2) : --link--^\n",
      "      StochasticNoiseOp (5) : --link--^\n",
      "  Gxpi2:1: EmbeddedOp (10) : embeds (1,) into QubitSpace((0, 1))\n",
      "    ComposedOp (4) : --link--^\n",
      "      StaticStandardOp (2) : --link--^\n",
      "      StochasticNoiseOp (3) : --link--^\n",
      "  Gypi2:0: EmbeddedOp (11) : embeds (0,) into QubitSpace((0, 1))\n",
      "    StaticStandardOp (7) : --link--^\n",
      "  Gypi2:1: EmbeddedOp (12) : embeds (1,) into QubitSpace((0, 1))\n",
      "    StaticStandardOp (7) : --link--^\n",
      "  Gcnot:0:1: StaticStandardOp (8) : --link--^\n",
      "  Gcnot:1:0: EmbeddedOp (13) : embeds (1, 0) into QubitSpace((0, 1))\n",
      "    StaticStandardOp (8) : --link--^\n",
      "\n",
      "Modelmember category: instrument_blks|layers\n",
      "\n",
      "Modelmember category: factories|gates\n",
      "\n",
      "Modelmember category: factories|layers\n",
      "\n"
     ]
    }
   ],
   "source": [
    "mdl_locnoise = pygsti.models.create_crosstalk_free_model(pspec,\n",
    "    stochastic_error_probs={\n",
    "        'Gxpi2': [0.04, 0.05, 0.02], # Stochastic Pauli noise on X\n",
    "        ('Gxpi2', 0): [0.08, 0.1, 0.06] # Override rates for X on one of the qubits\n",
    "    }\n",
    ")\n",
    "mdl_locnoise.print_modelmembers()"
   ]
  },
  {
   "cell_type": "markdown",
   "metadata": {},
   "source": [
    "### Explicit models\n",
    "Specifying noise in explicit models is similar, but since explicit models only hold circuit *layer* operations, we must always specify a layer.  For example, noise cannot be attributed to just the $X(\\pi/2)$ gate, it needs to be attributed to the gate *on* a particular qubit.  Note also that primitive layer labels can be specified as either a tuple, e.g. `(\"Gxpi2\", 0)`, or by a more compact string, e.g. `\"Gxpi2:0\"`.  Similarly, Lindbladian error rates can be identified by `(type, basis_labels)` tuples or a compact string, e.g., `('H','ZZ')` or `'HZZ'`.\n",
    "\n",
    "Here is an example of adding noise to an explicit model using both tuple and compact string formats:"
   ]
  },
  {
   "cell_type": "code",
   "execution_count": 6,
   "metadata": {},
   "outputs": [
    {
     "ename": "AssertionError",
     "evalue": "Expected 15 initial rates but got 3!",
     "output_type": "error",
     "traceback": [
      "\u001b[1;31m---------------------------------------------------------------------------\u001b[0m",
      "\u001b[1;31mAssertionError\u001b[0m                            Traceback (most recent call last)",
      "Cell \u001b[1;32mIn[6], line 3\u001b[0m\n\u001b[0;32m      1\u001b[0m pspec \u001b[38;5;241m=\u001b[39m pygsti\u001b[38;5;241m.\u001b[39mprocessors\u001b[38;5;241m.\u001b[39mQubitProcessorSpec(\u001b[38;5;241m2\u001b[39m, [\u001b[38;5;124m'\u001b[39m\u001b[38;5;124mGxpi2\u001b[39m\u001b[38;5;124m'\u001b[39m, \u001b[38;5;124m'\u001b[39m\u001b[38;5;124mGypi2\u001b[39m\u001b[38;5;124m'\u001b[39m, \u001b[38;5;124m'\u001b[39m\u001b[38;5;124mGcnot\u001b[39m\u001b[38;5;124m'\u001b[39m], geometry\u001b[38;5;241m=\u001b[39m\u001b[38;5;124m'\u001b[39m\u001b[38;5;124mline\u001b[39m\u001b[38;5;124m'\u001b[39m)\n\u001b[1;32m----> 3\u001b[0m explicit_model \u001b[38;5;241m=\u001b[39m \u001b[43mmc\u001b[49m\u001b[38;5;241;43m.\u001b[39;49m\u001b[43mcreate_explicit_model\u001b[49m\u001b[43m(\u001b[49m\u001b[43mpspec\u001b[49m\u001b[43m,\u001b[49m\n\u001b[0;32m      4\u001b[0m \u001b[43m                                          \u001b[49m\u001b[43mdepolarization_strengths\u001b[49m\u001b[38;5;241;43m=\u001b[39;49m\u001b[43m{\u001b[49m\u001b[38;5;124;43m'\u001b[39;49m\u001b[38;5;124;43mGxpi2:0\u001b[39;49m\u001b[38;5;124;43m'\u001b[39;49m\u001b[43m:\u001b[49m\u001b[43m \u001b[49m\u001b[38;5;241;43m0.1\u001b[39;49m\u001b[43m,\u001b[49m\u001b[43m}\u001b[49m\u001b[43m,\u001b[49m\n\u001b[0;32m      5\u001b[0m \u001b[43m                                          \u001b[49m\u001b[43mstochastic_error_probs\u001b[49m\u001b[38;5;241;43m=\u001b[39;49m\u001b[43m{\u001b[49m\u001b[43m(\u001b[49m\u001b[38;5;124;43m'\u001b[39;49m\u001b[38;5;124;43mGypi2\u001b[39;49m\u001b[38;5;124;43m'\u001b[39;49m\u001b[43m,\u001b[49m\u001b[43m \u001b[49m\u001b[38;5;241;43m0\u001b[39;49m\u001b[43m)\u001b[49m\u001b[43m:\u001b[49m\u001b[43m \u001b[49m\u001b[43m(\u001b[49m\u001b[38;5;241;43m0.02\u001b[39;49m\u001b[43m,\u001b[49m\u001b[43m \u001b[49m\u001b[38;5;241;43m0.03\u001b[39;49m\u001b[43m,\u001b[49m\u001b[43m \u001b[49m\u001b[38;5;241;43m0.04\u001b[39;49m\u001b[43m)\u001b[49m\u001b[43m}\u001b[49m\u001b[43m,\u001b[49m\n\u001b[0;32m      6\u001b[0m \u001b[43m                                          \u001b[49m\u001b[43mlindblad_error_coeffs\u001b[49m\u001b[38;5;241;43m=\u001b[39;49m\u001b[43m{\u001b[49m\u001b[43m(\u001b[49m\u001b[38;5;124;43m'\u001b[39;49m\u001b[38;5;124;43mGcnot\u001b[39;49m\u001b[38;5;124;43m'\u001b[39;49m\u001b[43m,\u001b[49m\u001b[43m \u001b[49m\u001b[38;5;241;43m0\u001b[39;49m\u001b[43m,\u001b[49m\u001b[43m \u001b[49m\u001b[38;5;241;43m1\u001b[39;49m\u001b[43m)\u001b[49m\u001b[43m:\u001b[49m\u001b[43m \u001b[49m\u001b[43m{\u001b[49m\u001b[38;5;124;43m'\u001b[39;49m\u001b[38;5;124;43mHZZ\u001b[39;49m\u001b[38;5;124;43m'\u001b[39;49m\u001b[43m:\u001b[49m\u001b[43m \u001b[49m\u001b[38;5;241;43m0.07\u001b[39;49m\u001b[43m}\u001b[49m\u001b[43m,\u001b[49m\n\u001b[0;32m      7\u001b[0m \u001b[43m                                                                 \u001b[49m\u001b[38;5;124;43m'\u001b[39;49m\u001b[38;5;124;43mGcnot:1:0\u001b[39;49m\u001b[38;5;124;43m'\u001b[39;49m\u001b[43m:\u001b[49m\u001b[43m \u001b[49m\u001b[43m{\u001b[49m\u001b[43m(\u001b[49m\u001b[38;5;124;43m'\u001b[39;49m\u001b[38;5;124;43mH\u001b[39;49m\u001b[38;5;124;43m'\u001b[39;49m\u001b[43m,\u001b[49m\u001b[38;5;124;43m'\u001b[39;49m\u001b[38;5;124;43mIX\u001b[39;49m\u001b[38;5;124;43m'\u001b[39;49m\u001b[43m)\u001b[49m\u001b[43m:\u001b[49m\u001b[43m \u001b[49m\u001b[38;5;241;43m0.07\u001b[39;49m\u001b[43m}\u001b[49m\u001b[43m \u001b[49m\u001b[43m}\u001b[49m\u001b[43m,\u001b[49m\n\u001b[0;32m      8\u001b[0m \u001b[43m                                         \u001b[49m\u001b[43m)\u001b[49m\n",
      "File \u001b[1;32m~\\Documents\\pyGSTi_random_bugfixes\\pygsti\\models\\modelconstruction.py:744\u001b[0m, in \u001b[0;36mcreate_explicit_model\u001b[1;34m(processor_spec, custom_gates, depolarization_strengths, stochastic_error_probs, lindblad_error_coeffs, depolarization_parameterization, stochastic_parameterization, lindblad_parameterization, evotype, simulator, ideal_gate_type, ideal_spam_type, embed_gates, basis)\u001b[0m\n\u001b[0;32m    732\u001b[0m \u001b[38;5;28;01mdef\u001b[39;00m \u001b[38;5;21mcreate_explicit_model\u001b[39m(processor_spec, custom_gates\u001b[38;5;241m=\u001b[39m\u001b[38;5;28;01mNone\u001b[39;00m,\n\u001b[0;32m    733\u001b[0m                           depolarization_strengths\u001b[38;5;241m=\u001b[39m\u001b[38;5;28;01mNone\u001b[39;00m, stochastic_error_probs\u001b[38;5;241m=\u001b[39m\u001b[38;5;28;01mNone\u001b[39;00m, lindblad_error_coeffs\u001b[38;5;241m=\u001b[39m\u001b[38;5;28;01mNone\u001b[39;00m,\n\u001b[0;32m    734\u001b[0m                           depolarization_parameterization\u001b[38;5;241m=\u001b[39m\u001b[38;5;124m'\u001b[39m\u001b[38;5;124mdepolarize\u001b[39m\u001b[38;5;124m'\u001b[39m, stochastic_parameterization\u001b[38;5;241m=\u001b[39m\u001b[38;5;124m'\u001b[39m\u001b[38;5;124mstochastic\u001b[39m\u001b[38;5;124m'\u001b[39m,\n\u001b[1;32m   (...)\u001b[0m\n\u001b[0;32m    737\u001b[0m                           ideal_gate_type\u001b[38;5;241m=\u001b[39m\u001b[38;5;124m'\u001b[39m\u001b[38;5;124mauto\u001b[39m\u001b[38;5;124m'\u001b[39m, ideal_spam_type\u001b[38;5;241m=\u001b[39m\u001b[38;5;124m'\u001b[39m\u001b[38;5;124mcomputational\u001b[39m\u001b[38;5;124m'\u001b[39m,\n\u001b[0;32m    738\u001b[0m                           embed_gates\u001b[38;5;241m=\u001b[39m\u001b[38;5;28;01mFalse\u001b[39;00m, basis\u001b[38;5;241m=\u001b[39m\u001b[38;5;124m'\u001b[39m\u001b[38;5;124mpp\u001b[39m\u001b[38;5;124m'\u001b[39m):\n\u001b[0;32m    740\u001b[0m     modelnoise \u001b[38;5;241m=\u001b[39m _build_modelnoise_from_args(depolarization_strengths, stochastic_error_probs, lindblad_error_coeffs,\n\u001b[0;32m    741\u001b[0m                                              depolarization_parameterization, stochastic_parameterization,\n\u001b[0;32m    742\u001b[0m                                              lindblad_parameterization, allow_nonlocal\u001b[38;5;241m=\u001b[39m\u001b[38;5;28;01mTrue\u001b[39;00m)\n\u001b[1;32m--> 744\u001b[0m     \u001b[38;5;28;01mreturn\u001b[39;00m \u001b[43m_create_explicit_model\u001b[49m\u001b[43m(\u001b[49m\u001b[43mprocessor_spec\u001b[49m\u001b[43m,\u001b[49m\u001b[43m \u001b[49m\u001b[43mmodelnoise\u001b[49m\u001b[43m,\u001b[49m\u001b[43m \u001b[49m\u001b[43mcustom_gates\u001b[49m\u001b[43m,\u001b[49m\u001b[43m \u001b[49m\u001b[43mevotype\u001b[49m\u001b[43m,\u001b[49m\n\u001b[0;32m    745\u001b[0m \u001b[43m                                  \u001b[49m\u001b[43msimulator\u001b[49m\u001b[43m,\u001b[49m\u001b[43m \u001b[49m\u001b[43mideal_gate_type\u001b[49m\u001b[43m,\u001b[49m\u001b[43m \u001b[49m\u001b[43mideal_spam_type\u001b[49m\u001b[43m,\u001b[49m\u001b[43m \u001b[49m\u001b[43mideal_spam_type\u001b[49m\u001b[43m,\u001b[49m\u001b[43m \u001b[49m\u001b[43membed_gates\u001b[49m\u001b[43m,\u001b[49m\u001b[43m \u001b[49m\u001b[43mbasis\u001b[49m\u001b[43m)\u001b[49m\n",
      "File \u001b[1;32m~\\Documents\\pyGSTi_random_bugfixes\\pygsti\\models\\modelconstruction.py:866\u001b[0m, in \u001b[0;36m_create_explicit_model\u001b[1;34m(processor_spec, modelnoise, custom_gates, evotype, simulator, ideal_gate_type, ideal_prep_type, ideal_povm_type, embed_gates, basis)\u001b[0m\n\u001b[0;32m    860\u001b[0m         ideal_gate \u001b[38;5;241m=\u001b[39m _op\u001b[38;5;241m.\u001b[39mcreate_from_unitary_mx(embedded_unitary, ideal_gate_type, basis,\n\u001b[0;32m    861\u001b[0m                                                 stdname, evotype, state_space)\n\u001b[0;32m    863\u001b[0m \u001b[38;5;66;03m#TODO: check for modelnoise on *local* gate, i.e. create_errormap(gn, ...)??\u001b[39;00m\n\u001b[0;32m    864\u001b[0m \u001b[38;5;66;03m#Note: set target_labels=None (NOT target_labels=inds) below so that n-qubit noise can\u001b[39;00m\n\u001b[0;32m    865\u001b[0m \u001b[38;5;66;03m# be applied to this gate.\u001b[39;00m\n\u001b[1;32m--> 866\u001b[0m noiseop \u001b[38;5;241m=\u001b[39m \u001b[43mmodelnoise\u001b[49m\u001b[38;5;241;43m.\u001b[39;49m\u001b[43mcreate_errormap\u001b[49m\u001b[43m(\u001b[49m\u001b[43mkey\u001b[49m\u001b[43m,\u001b[49m\u001b[43m \u001b[49m\u001b[43mevotype\u001b[49m\u001b[43m,\u001b[49m\u001b[43m \u001b[49m\u001b[43mstate_space\u001b[49m\u001b[43m,\u001b[49m\u001b[43m \u001b[49m\u001b[43mtarget_labels\u001b[49m\u001b[38;5;241;43m=\u001b[39;49m\u001b[38;5;28;43;01mNone\u001b[39;49;00m\u001b[43m)\u001b[49m\n\u001b[0;32m    867\u001b[0m layer \u001b[38;5;241m=\u001b[39m _op\u001b[38;5;241m.\u001b[39mComposedOp([ideal_gate, noiseop]) \u001b[38;5;28;01mif\u001b[39;00m (noiseop \u001b[38;5;129;01mis\u001b[39;00m \u001b[38;5;129;01mnot\u001b[39;00m \u001b[38;5;28;01mNone\u001b[39;00m) \u001b[38;5;28;01melse\u001b[39;00m ideal_gate\n\u001b[0;32m    868\u001b[0m ret\u001b[38;5;241m.\u001b[39moperations[key] \u001b[38;5;241m=\u001b[39m layer\n",
      "File \u001b[1;32m~\\Documents\\pyGSTi_random_bugfixes\\pygsti\\models\\modelnoise.py:332\u001b[0m, in \u001b[0;36mOpModelNoise.create_errormap\u001b[1;34m(self, opkey, evotype, state_space, target_labels, qudit_graph, copy)\u001b[0m\n\u001b[0;32m    298\u001b[0m \u001b[38;5;28;01mdef\u001b[39;00m \u001b[38;5;21mcreate_errormap\u001b[39m(\u001b[38;5;28mself\u001b[39m, opkey, evotype, state_space, target_labels\u001b[38;5;241m=\u001b[39m\u001b[38;5;28;01mNone\u001b[39;00m, qudit_graph\u001b[38;5;241m=\u001b[39m\u001b[38;5;28;01mNone\u001b[39;00m, copy\u001b[38;5;241m=\u001b[39m\u001b[38;5;28;01mFalse\u001b[39;00m):\n\u001b[0;32m    299\u001b[0m \u001b[38;5;250m    \u001b[39m\u001b[38;5;124;03m\"\"\"\u001b[39;00m\n\u001b[0;32m    300\u001b[0m \u001b[38;5;124;03m    Create an error map object to implement the noise on a given model operation.\u001b[39;00m\n\u001b[0;32m    301\u001b[0m \n\u001b[1;32m   (...)\u001b[0m\n\u001b[0;32m    330\u001b[0m \u001b[38;5;124;03m    LinearOperator\u001b[39;00m\n\u001b[0;32m    331\u001b[0m \u001b[38;5;124;03m    \"\"\"\u001b[39;00m\n\u001b[1;32m--> 332\u001b[0m     stencil \u001b[38;5;241m=\u001b[39m \u001b[38;5;28;43mself\u001b[39;49m\u001b[38;5;241;43m.\u001b[39;49m\u001b[43mcreate_errormap_stencil\u001b[49m\u001b[43m(\u001b[49m\u001b[43mopkey\u001b[49m\u001b[43m,\u001b[49m\u001b[43m \u001b[49m\u001b[43mevotype\u001b[49m\u001b[43m,\u001b[49m\u001b[43m \u001b[49m\u001b[43mstate_space\u001b[49m\u001b[43m,\u001b[49m\n\u001b[0;32m    333\u001b[0m \u001b[43m                                           \u001b[49m\u001b[38;5;28;43mlen\u001b[39;49m\u001b[43m(\u001b[49m\u001b[43mtarget_labels\u001b[49m\u001b[43m)\u001b[49m\u001b[43m \u001b[49m\u001b[38;5;28;43;01mif\u001b[39;49;00m\u001b[43m \u001b[49m\u001b[43m(\u001b[49m\u001b[43mtarget_labels\u001b[49m\u001b[43m \u001b[49m\u001b[38;5;129;43;01mis\u001b[39;49;00m\u001b[43m \u001b[49m\u001b[38;5;129;43;01mnot\u001b[39;49;00m\u001b[43m \u001b[49m\u001b[38;5;28;43;01mNone\u001b[39;49;00m\u001b[43m)\u001b[49m\u001b[43m \u001b[49m\u001b[38;5;28;43;01melse\u001b[39;49;00m\u001b[43m \u001b[49m\u001b[38;5;28;43;01mNone\u001b[39;49;00m\u001b[43m)\u001b[49m\n\u001b[0;32m    334\u001b[0m     \u001b[38;5;28;01mreturn\u001b[39;00m \u001b[38;5;28mself\u001b[39m\u001b[38;5;241m.\u001b[39mapply_errormap_stencil(stencil, evotype, state_space, target_labels, qudit_graph, copy)\n",
      "File \u001b[1;32m~\\Documents\\pyGSTi_random_bugfixes\\pygsti\\models\\modelnoise.py:673\u001b[0m, in \u001b[0;36mComposedOpModelNoise.create_errormap_stencil\u001b[1;34m(self, opkey, evotype, state_space, num_target_labels)\u001b[0m\n\u001b[0;32m    669\u001b[0m \u001b[38;5;250m\u001b[39m\u001b[38;5;124;03m\"\"\"\u001b[39;00m\n\u001b[0;32m    670\u001b[0m \u001b[38;5;124;03mSee :method:`OpModelNoise.create_errormap_stencil`.\u001b[39;00m\n\u001b[0;32m    671\u001b[0m \u001b[38;5;124;03m\"\"\"\u001b[39;00m\n\u001b[0;32m    672\u001b[0m \u001b[38;5;28mself\u001b[39m\u001b[38;5;241m.\u001b[39m_increment_touch_count(opkey)\n\u001b[1;32m--> 673\u001b[0m \u001b[38;5;28;01mreturn\u001b[39;00m \u001b[38;5;28mtuple\u001b[39m([modelnoise\u001b[38;5;241m.\u001b[39mcreate_errormap_stencil(opkey, evotype, state_space, num_target_labels)\n\u001b[0;32m    674\u001b[0m               \u001b[38;5;28;01mfor\u001b[39;00m modelnoise \u001b[38;5;129;01min\u001b[39;00m \u001b[38;5;28mself\u001b[39m\u001b[38;5;241m.\u001b[39mopmodelnoises])\n",
      "File \u001b[1;32m~\\Documents\\pyGSTi_random_bugfixes\\pygsti\\models\\modelnoise.py:673\u001b[0m, in \u001b[0;36m<listcomp>\u001b[1;34m(.0)\u001b[0m\n\u001b[0;32m    669\u001b[0m \u001b[38;5;250m\u001b[39m\u001b[38;5;124;03m\"\"\"\u001b[39;00m\n\u001b[0;32m    670\u001b[0m \u001b[38;5;124;03mSee :method:`OpModelNoise.create_errormap_stencil`.\u001b[39;00m\n\u001b[0;32m    671\u001b[0m \u001b[38;5;124;03m\"\"\"\u001b[39;00m\n\u001b[0;32m    672\u001b[0m \u001b[38;5;28mself\u001b[39m\u001b[38;5;241m.\u001b[39m_increment_touch_count(opkey)\n\u001b[1;32m--> 673\u001b[0m \u001b[38;5;28;01mreturn\u001b[39;00m \u001b[38;5;28mtuple\u001b[39m([\u001b[43mmodelnoise\u001b[49m\u001b[38;5;241;43m.\u001b[39;49m\u001b[43mcreate_errormap_stencil\u001b[49m\u001b[43m(\u001b[49m\u001b[43mopkey\u001b[49m\u001b[43m,\u001b[49m\u001b[43m \u001b[49m\u001b[43mevotype\u001b[49m\u001b[43m,\u001b[49m\u001b[43m \u001b[49m\u001b[43mstate_space\u001b[49m\u001b[43m,\u001b[49m\u001b[43m \u001b[49m\u001b[43mnum_target_labels\u001b[49m\u001b[43m)\u001b[49m\n\u001b[0;32m    674\u001b[0m               \u001b[38;5;28;01mfor\u001b[39;00m modelnoise \u001b[38;5;129;01min\u001b[39;00m \u001b[38;5;28mself\u001b[39m\u001b[38;5;241m.\u001b[39mopmodelnoises])\n",
      "File \u001b[1;32m~\\Documents\\pyGSTi_random_bugfixes\\pygsti\\models\\modelnoise.py:524\u001b[0m, in \u001b[0;36mOpModelPerOpNoise.create_errormap_stencil\u001b[1;34m(self, opkey, evotype, state_space, num_target_labels)\u001b[0m\n\u001b[0;32m    520\u001b[0m     all_target_labels \u001b[38;5;241m=\u001b[39m \u001b[38;5;28;01mNone\u001b[39;00m \u001b[38;5;28;01mif\u001b[39;00m (num_target_labels \u001b[38;5;129;01mis\u001b[39;00m \u001b[38;5;28;01mNone\u001b[39;00m) \u001b[38;5;28;01melse\u001b[39;00m \\\n\u001b[0;32m    521\u001b[0m         \u001b[38;5;28mtuple\u001b[39m([\u001b[38;5;124m'\u001b[39m\u001b[38;5;124m@\u001b[39m\u001b[38;5;132;01m{}\u001b[39;00m\u001b[38;5;124m'\u001b[39m\u001b[38;5;241m.\u001b[39mformat(i) \u001b[38;5;28;01mfor\u001b[39;00m i \u001b[38;5;129;01min\u001b[39;00m \u001b[38;5;28mrange\u001b[39m(num_target_labels)])\n\u001b[0;32m    522\u001b[0m     local_state_space \u001b[38;5;241m=\u001b[39m _StencilLabel\u001b[38;5;241m.\u001b[39mcast(all_target_labels)\u001b[38;5;241m.\u001b[39mcreate_local_state_space(state_space) \\\n\u001b[0;32m    523\u001b[0m         \u001b[38;5;28;01mif\u001b[39;00m (all_target_labels \u001b[38;5;129;01mis\u001b[39;00m \u001b[38;5;129;01mnot\u001b[39;00m \u001b[38;5;28;01mNone\u001b[39;00m) \u001b[38;5;28;01melse\u001b[39;00m state_space\n\u001b[1;32m--> 524\u001b[0m     local_errormap \u001b[38;5;241m=\u001b[39m \u001b[43mopnoise\u001b[49m\u001b[38;5;241;43m.\u001b[39;49m\u001b[43mcreate_errormap\u001b[49m\u001b[43m(\u001b[49m\u001b[43mevotype\u001b[49m\u001b[43m,\u001b[49m\u001b[43m \u001b[49m\u001b[43mlocal_state_space\u001b[49m\u001b[43m)\u001b[49m\n\u001b[0;32m    525\u001b[0m     errmaps_to_embed_then_compose[all_target_labels] \u001b[38;5;241m=\u001b[39m local_errormap\n\u001b[0;32m    526\u001b[0m \u001b[38;5;28mself\u001b[39m\u001b[38;5;241m.\u001b[39m_increment_touch_count(opkey)\n",
      "File \u001b[1;32m~\\Documents\\pyGSTi_random_bugfixes\\pygsti\\models\\modelnoise.py:924\u001b[0m, in \u001b[0;36mStochasticNoise.create_errormap\u001b[1;34m(self, evotype, state_space)\u001b[0m\n\u001b[0;32m    921\u001b[0m sto_rates \u001b[38;5;241m=\u001b[39m \u001b[38;5;28mself\u001b[39m\u001b[38;5;241m.\u001b[39merror_probs\n\u001b[0;32m    923\u001b[0m \u001b[38;5;28;01mif\u001b[39;00m \u001b[38;5;28mself\u001b[39m\u001b[38;5;241m.\u001b[39mparameterization \u001b[38;5;241m==\u001b[39m \u001b[38;5;124m\"\u001b[39m\u001b[38;5;124mstochastic\u001b[39m\u001b[38;5;124m\"\u001b[39m:  \u001b[38;5;66;03m# StochasticNoiseOp\u001b[39;00m\n\u001b[1;32m--> 924\u001b[0m     \u001b[38;5;28;01mreturn\u001b[39;00m \u001b[43m_op\u001b[49m\u001b[38;5;241;43m.\u001b[39;49m\u001b[43mStochasticNoiseOp\u001b[49m\u001b[43m(\u001b[49m\u001b[43mstate_space\u001b[49m\u001b[43m,\u001b[49m\u001b[43m \u001b[49m\u001b[43mbasis\u001b[49m\u001b[38;5;241;43m=\u001b[39;49m\u001b[38;5;124;43m\"\u001b[39;49m\u001b[38;5;124;43mpp\u001b[39;49m\u001b[38;5;124;43m\"\u001b[39;49m\u001b[43m,\u001b[49m\u001b[43m \u001b[49m\u001b[43mevotype\u001b[49m\u001b[38;5;241;43m=\u001b[39;49m\u001b[43mevotype\u001b[49m\u001b[43m,\u001b[49m\u001b[43m \u001b[49m\u001b[43minitial_rates\u001b[49m\u001b[38;5;241;43m=\u001b[39;49m\u001b[43msto_rates\u001b[49m\u001b[43m)\u001b[49m\n\u001b[0;32m    926\u001b[0m \u001b[38;5;28;01melif\u001b[39;00m \u001b[38;5;28mself\u001b[39m\u001b[38;5;241m.\u001b[39mparameterization \u001b[38;5;129;01min\u001b[39;00m (\u001b[38;5;124m\"\u001b[39m\u001b[38;5;124mlindblad\u001b[39m\u001b[38;5;124m\"\u001b[39m, \u001b[38;5;124m\"\u001b[39m\u001b[38;5;124mexp(lindblad)\u001b[39m\u001b[38;5;124m\"\u001b[39m):  \u001b[38;5;66;03m# LindbladErrorgen with \"cptp\", \"diagonal\" param\u001b[39;00m\n\u001b[0;32m    927\u001b[0m     errgen \u001b[38;5;241m=\u001b[39m \u001b[38;5;28mself\u001b[39m\u001b[38;5;241m.\u001b[39mcreate_errorgen(evotype, state_space)\n",
      "File \u001b[1;32m~\\Documents\\pyGSTi_random_bugfixes\\pygsti\\modelmembers\\operations\\stochasticop.py:73\u001b[0m, in \u001b[0;36mStochasticNoiseOp.__init__\u001b[1;34m(self, state_space, stochastic_basis, basis, evotype, initial_rates, seed_or_state)\u001b[0m\n\u001b[0;32m     71\u001b[0m \u001b[38;5;28mself\u001b[39m\u001b[38;5;241m.\u001b[39mparams \u001b[38;5;241m=\u001b[39m _np\u001b[38;5;241m.\u001b[39mzeros(\u001b[38;5;28mself\u001b[39m\u001b[38;5;241m.\u001b[39mbasis\u001b[38;5;241m.\u001b[39msize \u001b[38;5;241m-\u001b[39m \u001b[38;5;241m1\u001b[39m, \u001b[38;5;124m'\u001b[39m\u001b[38;5;124md\u001b[39m\u001b[38;5;124m'\u001b[39m)  \u001b[38;5;66;03m# note that basis.dim can be < self.dim (OK)\u001b[39;00m\n\u001b[0;32m     72\u001b[0m \u001b[38;5;28;01mif\u001b[39;00m initial_rates \u001b[38;5;129;01mis\u001b[39;00m \u001b[38;5;129;01mnot\u001b[39;00m \u001b[38;5;28;01mNone\u001b[39;00m:\n\u001b[1;32m---> 73\u001b[0m     \u001b[38;5;28;01massert\u001b[39;00m(\u001b[38;5;28mlen\u001b[39m(initial_rates) \u001b[38;5;241m==\u001b[39m \u001b[38;5;28mself\u001b[39m\u001b[38;5;241m.\u001b[39mbasis\u001b[38;5;241m.\u001b[39msize \u001b[38;5;241m-\u001b[39m \u001b[38;5;241m1\u001b[39m), \\\n\u001b[0;32m     74\u001b[0m         \u001b[38;5;124m\"\u001b[39m\u001b[38;5;124mExpected \u001b[39m\u001b[38;5;132;01m%d\u001b[39;00m\u001b[38;5;124m initial rates but got \u001b[39m\u001b[38;5;132;01m%d\u001b[39;00m\u001b[38;5;124m!\u001b[39m\u001b[38;5;124m\"\u001b[39m \u001b[38;5;241m%\u001b[39m (\u001b[38;5;28mself\u001b[39m\u001b[38;5;241m.\u001b[39mbasis\u001b[38;5;241m.\u001b[39msize \u001b[38;5;241m-\u001b[39m \u001b[38;5;241m1\u001b[39m, \u001b[38;5;28mlen\u001b[39m(initial_rates))\n\u001b[0;32m     75\u001b[0m     \u001b[38;5;28mself\u001b[39m\u001b[38;5;241m.\u001b[39mparams[:] \u001b[38;5;241m=\u001b[39m \u001b[38;5;28mself\u001b[39m\u001b[38;5;241m.\u001b[39m_rates_to_params(initial_rates)\n\u001b[0;32m     76\u001b[0m     rates \u001b[38;5;241m=\u001b[39m _np\u001b[38;5;241m.\u001b[39marray(initial_rates)\n",
      "\u001b[1;31mAssertionError\u001b[0m: Expected 15 initial rates but got 3!"
     ]
    }
   ],
   "source": [
    "pspec = pygsti.processors.QubitProcessorSpec(2, ['Gxpi2', 'Gypi2', 'Gcnot'], geometry='line')\n",
    "\n",
    "explicit_model = mc.create_explicit_model(pspec,\n",
    "                                          depolarization_strengths={'Gxpi2:0': 0.1,},\n",
    "                                          stochastic_error_probs={('Gypi2', 0): (0.02, 0.03, 0.04)},\n",
    "                                          lindblad_error_coeffs={('Gcnot', 0, 1): {'HZZ': 0.07},\n",
    "                                                                 'Gcnot:1:0': {('H','IX'): 0.07} },\n",
    "                                         )"
   ]
  },
  {
   "cell_type": "markdown",
   "metadata": {},
   "source": [
    "Printing the model's members reveals the simpler internal structure of an `ExplicitOpModel` - there's only a single `operations` category which holds layer operations.  These operations are `ComposedOp` operators that compose the ideal gate (`StaticUnitaryOps` in this case, since we didn't specify `ideal_gate_type`) with the specified noise operations.  "
   ]
  },
  {
   "cell_type": "code",
   "execution_count": null,
   "metadata": {},
   "outputs": [],
   "source": [
    "explicit_model.print_modelmembers()"
   ]
  },
  {
   "cell_type": "markdown",
   "metadata": {},
   "source": [
    "#### Noise on SPAM operators\n",
    "State preparation and measurement (SPAM) operators always act on all $N$ qubits.  To add noise to the $N$-qubit state preparation, or measurement operations, you can specify `'prep'`, and `'povm'` as keys in the error dictionaries, just like any other layer label.   The below cell placed depolarization noise on both the state preparation and measurement of a model."
   ]
  },
  {
   "cell_type": "code",
   "execution_count": null,
   "metadata": {},
   "outputs": [],
   "source": [
    "mdl_locnoise = pygsti.models.create_crosstalk_free_model(pspec,\n",
    "                                                         depolarization_strengths={\n",
    "                                                             'Gxpi2': 0.1,\n",
    "                                                             'prep': 0.01,\n",
    "                                                             'povm': 0.01}\n",
    "                                                        )\n",
    "\n",
    "explicit_model = mc.create_explicit_model(pspec,\n",
    "                                          depolarization_strengths={\n",
    "                                                             'Gxpi2:0': 0.1,\n",
    "                                                             'Gxpi2:1': 0.1,\n",
    "                                                             'prep': 0.01,\n",
    "                                                             'povm': 0.01}\n",
    "                                                        )\n",
    "\n",
    "mdl_locnoise.print_modelmembers()"
   ]
  },
  {
   "cell_type": "markdown",
   "metadata": {},
   "source": [
    "The printout above shows that the SPAM operators are now the ideal operators composed with depolarization noise.  It also reveals that the specified depolarization strength is applied as a parallel 1-qubit depolarization to each of the qubits."
   ]
  },
  {
   "cell_type": "markdown",
   "metadata": {},
   "source": [
    "#### Nonlocal noise\n",
    "So far, all the noise we've specified has been directed at the *target* qubits of the relevant operation.  For instance, when a depolarization strength is specified for a 1-qubit gates, it applies the given depolarization to gate's single target qubit.  When depolarization is applied to a 2-qubit gate, 2-qubit depolarization is applied to the target qubits.  When Lindblad error rates are given for a 1-qubit gate, they are indexed by single Pauli elements, e.g. `('H','X')`, whereas for a 2-qubit gate they are indexed by 2-qubit Paulis, e.g. `('H','XX')`.\n",
    "\n",
    "In a crosstalk free model, noise can *only* be specified on the target qubits - noise on non-target qubits is simply not allowed.  But for an explicit model, which holds solely $N$-qubit layer operations, noise for a gate (layer) can be applied to *any* of the qubits.  To specify noise that is not on the target qubits of a gate,\n",
    "\n",
    "- as the values of `depolarization_strengths` or `stochastic_error_probs`, pass a dictionary that maps qubit labels to noise values.  The qubit labels (keys) designate which qubits the noise acts upon.\n",
    "- add a colon followed by comma-separated qubit labels to the basis labels in a Lindblad error term.\n",
    "\n",
    "Here's an example of how to set non-local errors on the gates in an explicit model:"
   ]
  },
  {
   "cell_type": "code",
   "execution_count": null,
   "metadata": {},
   "outputs": [],
   "source": [
    "#Nonlocal explicit model\n",
    "explicit_model = mc.create_explicit_model(\n",
    "    pspec,\n",
    "    depolarization_strengths={('Gxpi2', 0): {(0,1): 0.2}},  # 2-qubit depolarization\n",
    "    lindblad_error_coeffs={('Gypi2', 0): {('H','ZZ:0,1'): 0.07,  # Hamiltonian ZZ on qubits 0 and 1\n",
    "                                          ('S', 'X:1'): 0.04}  # Stochastic X on qubit 1 (not a target qubit)\n",
    "                          },\n",
    "    )"
   ]
  },
  {
   "cell_type": "markdown",
   "metadata": {},
   "source": [
    "The errors can be verified, as usual, by printing the model's member structure:"
   ]
  },
  {
   "cell_type": "code",
   "execution_count": null,
   "metadata": {},
   "outputs": [],
   "source": [
    "explicit_model.print_modelmembers()"
   ]
  },
  {
   "cell_type": "markdown",
   "metadata": {},
   "source": [
    "### Cloud-crosstalk (cloud noise) models\n",
    "Cloud-crosstalk models can accept the most general noise operations: they can be given local, per-gate noise as for a local noise model, and non-local noise on specific layers like for an explicit model.  Furthermore, non-local noise can be specified for *gates* (rather than layers) in a meaningful way by using **stencils**, as we demonstrate below.\n",
    "\n",
    "Let's start with an example using error specifications we've already seen:"
   ]
  },
  {
   "cell_type": "code",
   "execution_count": null,
   "metadata": {},
   "outputs": [],
   "source": [
    "cloudmodel = pygsti.models.create_cloud_crosstalk_model(\n",
    "    pspec,\n",
    "    stochastic_error_probs={'Gypi2': (0.03, 0.01, 0.03)},  # local noise on a gate\n",
    "    lindblad_error_coeffs={\n",
    "        ('Gxpi2',0): { ('H','X'): 0.01, ('S','XY:0,1'): 0.01},  # local and nonlocal noise on a layer \n",
    "        ('Gcnot',0,1): { ('H','ZZ'): 0.02, ('S','XX'): 0.02 },  # local noise on a layer\n",
    "    }\n",
    ")"
   ]
  },
  {
   "cell_type": "markdown",
   "metadata": {},
   "source": [
    "The effect of these errors is entirely in the `operation_blks|cloudnoise` category.  As described in the tutorial on cloud noise models, *all* of the non-idealities in a `CloudNoiseModel` are contained in this category. "
   ]
  },
  {
   "cell_type": "code",
   "execution_count": null,
   "metadata": {},
   "outputs": [],
   "source": [
    "cloudmodel.print_modelmembers()"
   ]
  },
  {
   "cell_type": "markdown",
   "metadata": {},
   "source": [
    "#### Stencils\n",
    "When there are many qubits, it can be tedious to specify non-local noise in the way shown above since you need to specify the qubits upon which the noise acts differently for each primitive layer operation.  For example, if we have a chain of 10 qubits and want an $X(\\pi/2)$ gate to depolarize the qubit to the left and right of the gate's target qubit, we would need to specify nonlocal noise on qubits 1 and 3 for $X(\\pi/2)$ on qubit 2, nonlocal noise on qubits 2 and 4 for $X(\\pi/2)$ on qubit 3, etc.\n",
    "\n",
    "*Stencils* have been developed to make this process easier.  `ProcessorSpec` objects can contain a `QubitGraph` giving the geometry of the processor (or, more accurately, of an API of the processor).  This graph can include tags that associate a *direction name* with each of its edges.  For example, the built-in (and default) linear chain (`\"line\"`) graph has two directions, \"left\" and \"right\".  When specifying non-local noise, instead of specifying absolute qubit names, you can specify *relative qubit labels*.  \n",
    "\n",
    "\n",
    "The use of relative qubit labels - or *stencil labels* as they're called in pyGSTi - causes noise to be placed on qubits relative to a gate's target qubits.  The format of a stencil label is:\n",
    "\n",
    "`\"@<target_qubit_index> + <direction> + <direction> ...\"`\n",
    "\n",
    "where `<target_qubit_index>` is an integer between 0 and the gate's number of target qubits minus 1 (e.g. 0 and 1 for a 2-qubit gate), and `<direction>` is an optional direction name to move along.  Any direction names that are used must be present in the processor specification's graph (its `geometry`).\n",
    "\n",
    "Here's a simple example that uses stencils on a processor of 4-qubits in a chain:"
   ]
  },
  {
   "cell_type": "code",
   "execution_count": null,
   "metadata": {},
   "outputs": [],
   "source": [
    "pspec_4Qchain = pygsti.processors.QubitProcessorSpec(4, ['Gxpi', 'Gcnot'], geometry='line')\n",
    "cloudmodel_stencils = pygsti.models.create_cloud_crosstalk_model(\n",
    "    pspec_4Qchain,\n",
    "    depolarization_strengths = {\n",
    "        'Gxpi': {('@0+left',): 0.01,   # apply depolarization noise to the qubit to the left of the target\n",
    "                 ('@0+right',): 0.01}  # apply depolarization noise to the qubit to the right of the target\n",
    "    },\n",
    "    stochastic_error_probs = {\n",
    "        'Gxpi': {('@0',) : (0.03, 0.05, 0.05)}  # local noise, so could omit use of stencil here and\n",
    "        #'Gxpi': (0.03, 0.05, 0.05)             # <-- use this line instead\n",
    "    }\n",
    ")"
   ]
  },
  {
   "cell_type": "markdown",
   "metadata": {},
   "source": [
    "Here we place Pauli stochastic noise on the `Gxpi` gate and depolarizing noise on the qubits to either side.  The stencil has the effect of describing noise for each `('Gxpi',#)` layer based on the contents of the `'Gxpi'` noise specifications in a way that is dependent on the target qubit (`#`).  To be pedantic,\n",
    "\n",
    "- for `('Gxpi',0)`, `@0` evaluates to `0`, `@0+left` evaluates to NULL and `@0+right` evaluates to `1`.\n",
    "- for `('Gxpi',1)`, `@0` evaluates to `1`, `@0+left` evaluates to `0` and `@0+right` evaluates to `2`.\n",
    "- for `('Gxpi',2)`, `@0` evaluates to `2`, `@0+left` evaluates to `1` and `@0+right` evaluates to `3`.\n",
    "- for `('Gxpi',3)`, `@0` evaluates to `3`, `@0+left` evaluates to `2` and `@0+right` evaluates to NULL.\n",
    "\n",
    "When a NULL is encountered in stencil evaluation, no noise is added and evaluation continues.  This can be seen by reading through the model member structure (thought it's quite long!):"
   ]
  },
  {
   "cell_type": "code",
   "execution_count": null,
   "metadata": {},
   "outputs": [],
   "source": [
    "cloudmodel_stencils.print_modelmembers()"
   ]
  },
  {
   "cell_type": "markdown",
   "metadata": {},
   "source": [
    "Here's another examples of using stencils to construct in a 4-qubit cloud noise model:"
   ]
  },
  {
   "cell_type": "code",
   "execution_count": null,
   "metadata": {},
   "outputs": [],
   "source": [
    "cloudmodel_stencils2 = pygsti.models.create_cloud_crosstalk_model(pspec_4Qchain,\n",
    "    lindblad_error_coeffs={\n",
    "            'Gxpi': { ('H','X'): 0.01, ('S','X:@0+left'): 0.01, ('S','XX:@0,@0+right'): 0.02},\n",
    "            'Gcnot': { ('H','ZZ'): 0.02, ('S','XX:@1+right,@0+left'): 0.02 },\n",
    "        })"
   ]
  },
  {
   "cell_type": "markdown",
   "metadata": {},
   "source": [
    "Basis-element notation can also be abbreviated for convenience (this builds the same model a above):"
   ]
  },
  {
   "cell_type": "code",
   "execution_count": null,
   "metadata": {},
   "outputs": [],
   "source": [
    "cloudmodel_stencils2_abbrev = pygsti.models.create_cloud_crosstalk_model(pspec_4Qchain,\n",
    "    lindblad_error_coeffs={\n",
    "        'Gxpi': { 'HX': 0.01, 'SX:@0+left': 0.01, ('SXX:@0,@0+right'): 0.02},\n",
    "        'Gcnot': { 'HZZ': 0.02, 'SXX:@1+right,@0+left': 0.02 },\n",
    "    })"
   ]
  },
  {
   "cell_type": "markdown",
   "metadata": {},
   "source": [
    "And here's one more final example that combines several types of errors:"
   ]
  },
  {
   "cell_type": "code",
   "execution_count": null,
   "metadata": {},
   "outputs": [],
   "source": [
    "cloudmodel_stencils3 = pygsti.models.create_cloud_crosstalk_model(\n",
    "    pspec_4Qchain,\n",
    "    depolarization_strengths = {'Gxpi': 0.05},\n",
    "    lindblad_error_coeffs = {\n",
    "        'Gxpi': {'HX:@0': 0.1},\n",
    "        'Gxpi:2': {'HY:2': 0.2},\n",
    "        'Gcnot': {'HZZ:@0+left,@0': 0.02, 'HZZ:@1,@1+right': 0.02}\n",
    "    })"
   ]
  },
  {
   "cell_type": "markdown",
   "metadata": {},
   "source": [
    "#### Noise parameterizations\n",
    "Along with the amount and type of noise added to a model, you can also specify how it is represented as pyGSTi operator objects. This is significant when the model will be tweaked or optimized later on, in which case the paramterization determines how the noise operations are allowed to be tweaked (changed).  Parameterization types are especially important in cloud noise models where this constitutes the entirety of how the model is parameterized.\n",
    "\n",
    "The parameterizations for the three standard noise types are given by specifying the `depolarization_parameterization`, `stochastic_parameterization`, and `lindblad_parameterization` arguments.  The options for these are as follows:\n",
    "\n",
    "- `depolarization_parameterization`:\n",
    "    - `\"depolarize\"` (default) builds `DepolarizeOp` objects with the strength given in `depolarization_strengths`.  A `DepolarizeOp` object contains a single parameter for the depolarization rate.\n",
    "    - `\"stochastic\"` builds `StochasticNoiseOp` objects, which have separate parameters for each Pauli stochastic error rate, all of which are initially equal.  The depolarization strength is thus split evenly among the individual Pauli stochastic channels of a `StochasticNoiseOp`.\n",
    "    - `\"lindblad\"` builds exponentiated `LindbladErrorgen` object containing Pauli stochastic terms.  The error generator object is built with `parameterization=\"D\"` (an argument of `LindbladErrorgen.__init__`).  We will refer to this as the *mode* of the `LindbladErrorgen`.  `\"D\"` (depolarization) mode means it that has a single parameter is squared to give the depolarization rate.\n",
    "\n",
    "- `stochastic_parameterization`:\n",
    "    - `\"stochastic\"` (default) builds `StochasticNoiseOp` objects which have separate parameters for each Pauli stochastic error rate.  Elements of `stochastic_error_probs` are used as coefficients in a linear combination of individual Pauli stochastic channels.\n",
    "    - `\"lindblad\"` builds exponentiated `LindbladErrorgen` object containing Pauli stochastic terms.  The error generator object is built in `\"CPTP\"` mode, which means it that there is one parameter per stochastic rate (equal to the square root of the rate so it is constrained to be positive).\n",
    "    \n",
    "- `lindblad_parameterization`:  Lindblad errors are always represented by exponentiated `LindbladErrorgen` objects.  A `LindbladErrorgen` can have several different internal parameterizations, or *modes* as we refer to them here to avoid confusion with the noise or model parameterization.  The mode is by definition the value of the `parameterization` argument supplied to `LindbladErrorgen.__init__`, which influences what types of elementary error generators (e.g. 'H', 'S', 'C' and 'A') are allowed and whether the Pauli stochastic error rates are constrained to be positive. The value of `lindblad_parameterization` can be set to any valid mode value (see documentation for more details).  Usually the default values of `\"auto\"` is fine. \n",
    "\n",
    "The examples below show how the number of parameters in a cloud noise model can vary based on the way in which noise is parameterized.  For these examples, we'll go back to the 2-qubit processor specification for simplicity."
   ]
  },
  {
   "cell_type": "code",
   "execution_count": null,
   "metadata": {},
   "outputs": [],
   "source": [
    "cloudmodel = pygsti.models.create_cloud_crosstalk_model(\n",
    "    pspec,\n",
    "    depolarization_strengths={'Gxpi2': 0.1},\n",
    "    depolarization_parameterization='depolarize',\n",
    "    stochastic_error_probs={'Gypi2': (0.03, 0.01, 0.03)},  # local noise on a gate\n",
    "    stochastic_parameterization='stochastic'\n",
    ")\n",
    "print(cloudmodel.num_params, \"params, 1 depolarization rate, 3 stochastic rates\")"
   ]
  },
  {
   "cell_type": "markdown",
   "metadata": {},
   "source": [
    "By setting the `independent_gates` argument to `True` (`False` is the default), the noise is applied to each set of target qubits independently and so have separate parameters. "
   ]
  },
  {
   "cell_type": "code",
   "execution_count": null,
   "metadata": {},
   "outputs": [],
   "source": [
    "cloudmodel = pygsti.models.create_cloud_crosstalk_model(\n",
    "    pspec,\n",
    "    depolarization_strengths={'Gxpi2': 0.1},\n",
    "    depolarization_parameterization='depolarize',\n",
    "    stochastic_error_probs={'Gypi2': (0.03, 0.01, 0.03)},  # local noise on a gate\n",
    "    stochastic_parameterization='stochastic',\n",
    "    independent_gates=True\n",
    ")\n",
    "print(cloudmodel.num_params, \"params, 2 depolarization rates, 6 stochastic rates (because there are 2 qubits)\")"
   ]
  },
  {
   "cell_type": "markdown",
   "metadata": {},
   "source": [
    "Changing the depolarization parameterization to `\"stochastic\"` makes the `Gxpi2` gate take 3 parameters.  Changing the stochastic parameterization to `\"lindblad\"` doesn't change the number of parameters (still 3) but does change the type of gate object used to model the noise:"
   ]
  },
  {
   "cell_type": "code",
   "execution_count": null,
   "metadata": {},
   "outputs": [],
   "source": [
    "cloudmodel = pygsti.models.create_cloud_crosstalk_model(\n",
    "    pspec,\n",
    "    depolarization_strengths={'Gxpi2': 0.1},\n",
    "    depolarization_parameterization='stochastic',\n",
    "    stochastic_error_probs={'Gypi2': (0.03, 0.01, 0.03)},  # local noise on a gate\n",
    "    stochastic_parameterization='lindblad'\n",
    ")\n",
    "\n",
    "print(cloudmodel.num_params, \"params, 3 initially equal from depolarization, 3 stochastic error-generator rates\")\n",
    "\n",
    "print(\"\\nGyp2 cloud noise is:\")\n",
    "print(cloudmodel.operation_blks['cloudnoise'][('Gypi2',0)].embedded_op)"
   ]
  },
  {
   "cell_type": "markdown",
   "metadata": {},
   "source": [
    "Changing the depolarization parameterization to `\"lindblad\"` makes the `Gxpi2` gate go back to taking only 1 parameter since its noise is represented by a `LindbladErrorgen` with mode `\"D\"`."
   ]
  },
  {
   "cell_type": "code",
   "execution_count": null,
   "metadata": {},
   "outputs": [],
   "source": [
    "cloudmodel = pygsti.models.create_cloud_crosstalk_model(\n",
    "    pspec,\n",
    "    depolarization_strengths={'Gxpi2': 0.1},\n",
    "    depolarization_parameterization='lindblad',\n",
    "    stochastic_error_probs={'Gypi2': (0.03, 0.01, 0.03)},  # local noise on a gate\n",
    "    stochastic_parameterization='lindblad'\n",
    ")\n",
    "\n",
    "print(cloudmodel.num_params, \"params, 1 from lindblad D-mode error-generator, 3 stochastic error-generator rates\")"
   ]
  },
  {
   "cell_type": "markdown",
   "metadata": {},
   "source": [
    "By changing the mode of Lindblad error coefficients we can:\n",
    "1. dictate what types of errors are allowed in the error generator (and could be possibly added later on)\n",
    "2. alter whether the Pauli stochastic error rates are constrained to be postive or not"
   ]
  },
  {
   "cell_type": "code",
   "execution_count": null,
   "metadata": {},
   "outputs": [],
   "source": [
    "# H+S => H and S type elementary error generators are allowed; S-type coefficients must be positive\n",
    "cloudmodel = pygsti.models.create_cloud_crosstalk_model(\n",
    "    pspec,\n",
    "    lindblad_error_coeffs={\n",
    "        'Gcnot': { ('H','ZZ'): 0.02, ('S','XX'): 0.02 }\n",
    "    },\n",
    "    lindblad_parameterization='H+S'\n",
    ")\n",
    "print(cloudmodel.num_params, \"params\")"
   ]
  },
  {
   "cell_type": "code",
   "execution_count": null,
   "metadata": {},
   "outputs": [],
   "source": [
    "# H+s => H and S type elementary error generators are allowed; S-type coefficients can be postive or negative (no constraint)\n",
    "cloudmodel = pygsti.models.create_cloud_crosstalk_model(\n",
    "    pspec,\n",
    "    lindblad_error_coeffs={\n",
    "        'Gcnot': { ('H','ZZ'): 0.02, ('S','XX'): 0.02 }\n",
    "    },\n",
    "    lindblad_parameterization='H+s'\n",
    ")\n",
    "print(cloudmodel.num_params, \"params\")"
   ]
  },
  {
   "cell_type": "code",
   "execution_count": null,
   "metadata": {},
   "outputs": [],
   "source": [
    "# H => Only H-type elementary error generators are allowed\n",
    "cloudmodel = pygsti.models.create_cloud_crosstalk_model(\n",
    "    pspec,\n",
    "    lindblad_error_coeffs={\n",
    "        'Gcnot': { ('H','ZZ'): 0.02 }\n",
    "    },\n",
    "    lindblad_parameterization='H'\n",
    ")\n",
    "print(cloudmodel.num_params, \"params\")"
   ]
  },
  {
   "cell_type": "code",
   "execution_count": null,
   "metadata": {},
   "outputs": [],
   "source": [
    "# CPTP => All elementary error-generator types are allowed; Pauli (diagonal) S-type coefficients must be positive.\n",
    "# Note that for CPTP types, S-type coefficients are indexed by 2 Paulis instead of 1.\n",
    "cloudmodel = pygsti.models.create_cloud_crosstalk_model(\n",
    "    pspec,\n",
    "    lindblad_error_coeffs={\n",
    "        'Gcnot': { ('H','ZZ'): 0.02, \n",
    "                   ('S', 'XX', 'XX'): 0.05, ('S', 'XY', 'XY'): 0.05, ('S', 'YX', 'YX'): 0.05,\n",
    "                   ('S', 'XX', 'XY'): 0.01 + 0.01j, ('S', 'XY', 'XX'): 0.01 - 0.01j,\n",
    "                   ('S', 'XX', 'YX'): 0.01 + 0.0j, ('S', 'YX', 'XX'): 0.01 - 0.0j,\n",
    "                   ('S', 'XY', 'YX'): 0.01 - 0.005j, ('S', 'YX', 'XY'): 0.01 + 0.005j}\n",
    "    },\n",
    "    lindblad_parameterization='CPTP'\n",
    ")\n",
    "print(cloudmodel.num_params, \"params because 1 H-type and a Hermitian 3x3 block of S-type coefficients\")"
   ]
  }
 ],
 "metadata": {
  "kernelspec": {
   "display_name": "random_pygsti_debugging",
   "language": "python",
   "name": "random_pygsti_debugging"
  },
  "language_info": {
   "codemirror_mode": {
    "name": "ipython",
    "version": 3
   },
   "file_extension": ".py",
   "mimetype": "text/x-python",
   "name": "python",
   "nbconvert_exporter": "python",
   "pygments_lexer": "ipython3",
   "version": "3.9.13"
  }
 },
 "nbformat": 4,
 "nbformat_minor": 4
}
