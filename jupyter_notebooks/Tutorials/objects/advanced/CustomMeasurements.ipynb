{
 "cells": [
  {
   "cell_type": "markdown",
   "metadata": {},
   "source": [
    "# Custom Measurement Tutorial\n",
    "This tutorial will demonstrate how to encode custom measurements -- such as two-qubit parity measurement into a pyGSTi model -- rather than the standard Z measurement in the computational basis."
   ]
  },
  {
   "cell_type": "code",
   "execution_count": 1,
   "metadata": {},
   "outputs": [],
   "source": [
    "import pygsti\n",
    "from pygsti.modelpacks import smq2Q_XYCNOT as std\n",
    "import numpy as np"
   ]
  },
  {
   "cell_type": "markdown",
   "metadata": {},
   "source": [
    "## Parity measurement construction\n",
    "\n",
    "We start with a standard two-qubit model, and replace the default POVM with one that measures the parity instead. We do this by providing the superkets which described the desired measurement. This is straightforward for the parity measurement in the Pauli product basis, as shown below."
   ]
  },
  {
   "cell_type": "code",
   "execution_count": 2,
   "metadata": {},
   "outputs": [
    {
     "name": "stdout",
     "output_type": "stream",
     "text": [
      "rho0 = FullState with dimension 16\n",
      " 0.50   0   0 0.50   0   0   0   0   0   0   0   0 0.50   0   0 0.50\n",
      "\n",
      "\n",
      "Mdefault = TPPOVM with effect vectors:\n",
      "e: FullPOVMEffect with dimension 16\n",
      " 1.00   0   0   0   0   0   0   0   0   0   0   0   0   0   0 1.00\n",
      "\n",
      "o: ComplementPOVMEffect with dimension 16\n",
      " 1.00   0   0   0   0   0   0   0   0   0   0   0   0   0   0-1.00\n",
      "\n",
      "\n",
      "\n",
      "Gxpi2:1 = \n",
      "FullArbitraryOp with shape (16, 16)\n",
      " 1.00   0   0   0   0   0   0   0   0   0   0   0   0   0   0   0\n",
      "   0 1.00   0   0   0   0   0   0   0   0   0   0   0   0   0   0\n",
      "   0   0   0-1.00   0   0   0   0   0   0   0   0   0   0   0   0\n",
      "   0   0 1.00   0   0   0   0   0   0   0   0   0   0   0   0   0\n",
      "   0   0   0   0 1.00   0   0   0   0   0   0   0   0   0   0   0\n",
      "   0   0   0   0   0 1.00   0   0   0   0   0   0   0   0   0   0\n",
      "   0   0   0   0   0   0   0-1.00   0   0   0   0   0   0   0   0\n",
      "   0   0   0   0   0   0 1.00   0   0   0   0   0   0   0   0   0\n",
      "   0   0   0   0   0   0   0   0 1.00   0   0   0   0   0   0   0\n",
      "   0   0   0   0   0   0   0   0   0 1.00   0   0   0   0   0   0\n",
      "   0   0   0   0   0   0   0   0   0   0   0-1.00   0   0   0   0\n",
      "   0   0   0   0   0   0   0   0   0   0 1.00   0   0   0   0   0\n",
      "   0   0   0   0   0   0   0   0   0   0   0   0 1.00   0   0   0\n",
      "   0   0   0   0   0   0   0   0   0   0   0   0   0 1.00   0   0\n",
      "   0   0   0   0   0   0   0   0   0   0   0   0   0   0   0-1.00\n",
      "   0   0   0   0   0   0   0   0   0   0   0   0   0   0 1.00   0\n",
      "\n",
      "\n",
      "Gypi2:1 = \n",
      "FullArbitraryOp with shape (16, 16)\n",
      " 1.00   0   0   0   0   0   0   0   0   0   0   0   0   0   0   0\n",
      "   0   0   0 1.00   0   0   0   0   0   0   0   0   0   0   0   0\n",
      "   0   0 1.00   0   0   0   0   0   0   0   0   0   0   0   0   0\n",
      "   0-1.00   0   0   0   0   0   0   0   0   0   0   0   0   0   0\n",
      "   0   0   0   0 1.00   0   0   0   0   0   0   0   0   0   0   0\n",
      "   0   0   0   0   0   0   0 1.00   0   0   0   0   0   0   0   0\n",
      "   0   0   0   0   0   0 1.00   0   0   0   0   0   0   0   0   0\n",
      "   0   0   0   0   0-1.00   0   0   0   0   0   0   0   0   0   0\n",
      "   0   0   0   0   0   0   0   0 1.00   0   0   0   0   0   0   0\n",
      "   0   0   0   0   0   0   0   0   0   0   0 1.00   0   0   0   0\n",
      "   0   0   0   0   0   0   0   0   0   0 1.00   0   0   0   0   0\n",
      "   0   0   0   0   0   0   0   0   0-1.00   0   0   0   0   0   0\n",
      "   0   0   0   0   0   0   0   0   0   0   0   0 1.00   0   0   0\n",
      "   0   0   0   0   0   0   0   0   0   0   0   0   0   0   0 1.00\n",
      "   0   0   0   0   0   0   0   0   0   0   0   0   0   0 1.00   0\n",
      "   0   0   0   0   0   0   0   0   0   0   0   0   0-1.00   0   0\n",
      "\n",
      "\n",
      "Gxpi2:0 = \n",
      "FullArbitraryOp with shape (16, 16)\n",
      " 1.00   0   0   0   0   0   0   0   0   0   0   0   0   0   0   0\n",
      "   0 1.00   0   0   0   0   0   0   0   0   0   0   0   0   0   0\n",
      "   0   0 1.00   0   0   0   0   0   0   0   0   0   0   0   0   0\n",
      "   0   0   0 1.00   0   0   0   0   0   0   0   0   0   0   0   0\n",
      "   0   0   0   0 1.00   0   0   0   0   0   0   0   0   0   0   0\n",
      "   0   0   0   0   0 1.00   0   0   0   0   0   0   0   0   0   0\n",
      "   0   0   0   0   0   0 1.00   0   0   0   0   0   0   0   0   0\n",
      "   0   0   0   0   0   0   0 1.00   0   0   0   0   0   0   0   0\n",
      "   0   0   0   0   0   0   0   0   0   0   0   0-1.00   0   0   0\n",
      "   0   0   0   0   0   0   0   0   0   0   0   0   0-1.00   0   0\n",
      "   0   0   0   0   0   0   0   0   0   0   0   0   0   0-1.00   0\n",
      "   0   0   0   0   0   0   0   0   0   0   0   0   0   0   0-1.00\n",
      "   0   0   0   0   0   0   0   0 1.00   0   0   0   0   0   0   0\n",
      "   0   0   0   0   0   0   0   0   0 1.00   0   0   0   0   0   0\n",
      "   0   0   0   0   0   0   0   0   0   0 1.00   0   0   0   0   0\n",
      "   0   0   0   0   0   0   0   0   0   0   0 1.00   0   0   0   0\n",
      "\n",
      "\n",
      "Gypi2:0 = \n",
      "FullArbitraryOp with shape (16, 16)\n",
      " 1.00   0   0   0   0   0   0   0   0   0   0   0   0   0   0   0\n",
      "   0 1.00   0   0   0   0   0   0   0   0   0   0   0   0   0   0\n",
      "   0   0 1.00   0   0   0   0   0   0   0   0   0   0   0   0   0\n",
      "   0   0   0 1.00   0   0   0   0   0   0   0   0   0   0   0   0\n",
      "   0   0   0   0   0   0   0   0   0   0   0   0 1.00   0   0   0\n",
      "   0   0   0   0   0   0   0   0   0   0   0   0   0 1.00   0   0\n",
      "   0   0   0   0   0   0   0   0   0   0   0   0   0   0 1.00   0\n",
      "   0   0   0   0   0   0   0   0   0   0   0   0   0   0   0 1.00\n",
      "   0   0   0   0   0   0   0   0 1.00   0   0   0   0   0   0   0\n",
      "   0   0   0   0   0   0   0   0   0 1.00   0   0   0   0   0   0\n",
      "   0   0   0   0   0   0   0   0   0   0 1.00   0   0   0   0   0\n",
      "   0   0   0   0   0   0   0   0   0   0   0 1.00   0   0   0   0\n",
      "   0   0   0   0-1.00   0   0   0   0   0   0   0   0   0   0   0\n",
      "   0   0   0   0   0-1.00   0   0   0   0   0   0   0   0   0   0\n",
      "   0   0   0   0   0   0-1.00   0   0   0   0   0   0   0   0   0\n",
      "   0   0   0   0   0   0   0-1.00   0   0   0   0   0   0   0   0\n",
      "\n",
      "\n",
      "Gcnot:0:1 = \n",
      "FullArbitraryOp with shape (16, 16)\n",
      " 1.00   0   0   0   0   0   0   0   0   0   0   0   0   0   0   0\n",
      "   0 1.00   0   0   0   0   0   0   0   0   0   0   0   0   0   0\n",
      "   0   0   0   0   0   0   0   0   0   0   0   0   0   0 1.00   0\n",
      "   0   0   0   0   0   0   0   0   0   0   0   0   0   0   0 1.00\n",
      "   0   0   0   0   0 1.00   0   0   0   0   0   0   0   0   0   0\n",
      "   0   0   0   0 1.00   0   0   0   0   0   0   0   0   0   0   0\n",
      "   0   0   0   0   0   0   0   0   0   0   0 1.00   0   0   0   0\n",
      "   0   0   0   0   0   0   0   0   0   0-1.00   0   0   0   0   0\n",
      "   0   0   0   0   0   0   0   0   0 1.00   0   0   0   0   0   0\n",
      "   0   0   0   0   0   0   0   0 1.00   0   0   0   0   0   0   0\n",
      "   0   0   0   0   0   0   0-1.00   0   0   0   0   0   0   0   0\n",
      "   0   0   0   0   0   0 1.00   0   0   0   0   0   0   0   0   0\n",
      "   0   0   0   0   0   0   0   0   0   0   0   0 1.00   0   0   0\n",
      "   0   0   0   0   0   0   0   0   0   0   0   0   0 1.00   0   0\n",
      "   0   0 1.00   0   0   0   0   0   0   0   0   0   0   0   0   0\n",
      "   0   0   0 1.00   0   0   0   0   0   0   0   0   0   0   0   0\n",
      "\n",
      "\n",
      "\n",
      "\n"
     ]
    }
   ],
   "source": [
    "parity_model = std.target_model()\n",
    "\n",
    "# Here, we specify the superkets for the even/odd effects\n",
    "# This can be done in any basis, but we use Pauli-product here since\n",
    "# we know the structure of the parity measurements in this basis\n",
    "even_dmvec = np.zeros(16)\n",
    "even_dmvec[0] = 1.0  # II element should be 1\n",
    "even_dmvec[15] = 1.0 # ZZ element should also be 1 for even\n",
    "\n",
    "odd_dmvec = np.zeros(16)\n",
    "odd_dmvec[0] = 1.0  # II element is still 1 for odd...\n",
    "odd_dmvec[15] = -1.0 # ... but ZZ element should be -1 for odd\n",
    "\n",
    "parity_povm_dict = {'e': even_dmvec, 'o': odd_dmvec}\n",
    "\n",
    "parity_povm = pygsti.modelmembers.povms.create_from_dmvecs(parity_povm_dict, \"full TP\",\n",
    "    basis='pp', evotype=parity_model.evotype, state_space=parity_model.state_space)\n",
    "\n",
    "parity_model['Mdefault'] = parity_povm\n",
    "print(parity_model)"
   ]
  },
  {
   "cell_type": "markdown",
   "metadata": {},
   "source": [
    "We can test this by running some simple circuits and seeing what outcomes we observe."
   ]
  },
  {
   "cell_type": "code",
   "execution_count": 3,
   "metadata": {},
   "outputs": [
    {
     "data": {
      "text/plain": [
       "{('e',): 1.0000000000000002, ('o',): 0.0}"
      ]
     },
     "execution_count": 3,
     "metadata": {},
     "output_type": "execute_result"
    }
   ],
   "source": [
    "# Idle circuit should give us even outcome\n",
    "dict(parity_model.probabilities( pygsti.circuits.Circuit([], line_labels=(0,1))))"
   ]
  },
  {
   "cell_type": "code",
   "execution_count": 16,
   "metadata": {},
   "outputs": [
    {
     "data": {
      "text/plain": [
       "{('e',): 1.0000000000000002, ('o',): 0.9999999999999998}"
      ]
     },
     "execution_count": 16,
     "metadata": {},
     "output_type": "execute_result"
    }
   ],
   "source": [
    "# Partial flip of one qubit gives an equal superposition of odd and even\n",
    "dict(parity_model.probabilities( pygsti.circuits.Circuit([('Gxpi2', 0)], line_labels=(0,1))))"
   ]
  },
  {
   "cell_type": "code",
   "execution_count": 5,
   "metadata": {},
   "outputs": [
    {
     "data": {
      "text/plain": [
       "{('e',): 0.0, ('o',): 1.0}"
      ]
     },
     "execution_count": 5,
     "metadata": {},
     "output_type": "execute_result"
    }
   ],
   "source": [
    "# Full bitflip of one qubit should give us an odd outcome\n",
    "dict(parity_model.probabilities( pygsti.circuits.Circuit([('Gxpi2', 0), ('Gxpi2', 0)], line_labels=(0,1))))"
   ]
  },
  {
   "cell_type": "code",
   "execution_count": 6,
   "metadata": {},
   "outputs": [
    {
     "data": {
      "text/plain": [
       "{('e',): 1.0, ('o',): 0.0}"
      ]
     },
     "execution_count": 6,
     "metadata": {},
     "output_type": "execute_result"
    }
   ],
   "source": [
    "# Making a Bell pair (using H = Y(pi/2)X(pi), in operation order) should maintain the even outcome\n",
    "dict(parity_model.probabilities( pygsti.circuits.Circuit([('Gypi2', 0), ('Gxpi2', 0), ('Gxpi2', 0), ('Gcnot', 0, 1)], line_labels=(0,1))))"
   ]
  },
  {
   "cell_type": "markdown",
   "metadata": {},
   "source": [
    "## Combining measurements\n",
    "\n",
    "It is also possible to use different measurements on different sets of qubits. For example, we can mix computational basis states with our parity measurement from above.\n",
    "\n",
    "Since we are going up to 3 qubits for this example, we will swap over to using a `QubitProcessorSpec` and `pygsti.modelconstruction` to build our initial model rather than loading it from a modelpack."
   ]
  },
  {
   "cell_type": "code",
   "execution_count": 14,
   "metadata": {},
   "outputs": [],
   "source": [
    "# Get a basic 3-qubit model\n",
    "pspec = pygsti.processors.QubitProcessorSpec(3, ['Gxpi2', 'Gypi2', 'Gcnot'], geometry='line')\n",
    "Z_parity_model = pygsti.models.create_explicit_model(pspec)\n",
    "\n",
    "# Get a 1-qubit Z basis (computational) measurement\n",
    "computational_povm = pygsti.modelmembers.povms.ComputationalBasisPOVM(1)\n",
    "\n",
    "# Get a composite POVM that performs Z measurement on qubit 1 and a parity measurement on qubits 2 and 3\n",
    "Z_parity_povm = pygsti.modelmembers.povms.TensorProductPOVM([computational_povm, parity_povm])\n",
    "\n",
    "# Override our standard measurement with the composite one\n",
    "Z_parity_model['Mdefault'] = Z_parity_povm\n"
   ]
  },
  {
   "cell_type": "markdown",
   "metadata": {},
   "source": [
    "And we can again test this with some simple measurements. Notice that instead of binary bitstrings, the \"e\"/\"o\" outcome labels are used as the second part of the outcome labels."
   ]
  },
  {
   "cell_type": "code",
   "execution_count": 17,
   "metadata": {},
   "outputs": [
    {
     "data": {
      "text/plain": [
       "{('0e',): 0.9999999999999997, ('0o',): 0.0, ('1e',): 0.0, ('1o',): 0.0}"
      ]
     },
     "execution_count": 17,
     "metadata": {},
     "output_type": "execute_result"
    }
   ],
   "source": [
    "# Idle circuit should give us 0 on first qubit and even parity on second and third qubits\n",
    "dict(Z_parity_model.probabilities( pygsti.circuits.Circuit([], line_labels=(0,1,2)) ))"
   ]
  },
  {
   "cell_type": "code",
   "execution_count": 18,
   "metadata": {},
   "outputs": [
    {
     "data": {
      "text/plain": [
       "{('0e',): -5.551115123125783e-17,\n",
       " ('0o',): -1.6653345369377348e-16,\n",
       " ('1e',): 0.9999999999999993,\n",
       " ('1o',): -1.6653345369377348e-16}"
      ]
     },
     "execution_count": 18,
     "metadata": {},
     "output_type": "execute_result"
    }
   ],
   "source": [
    "# We can flip just the first qubit to see a 1 but still even outcome\n",
    "dict(Z_parity_model.probabilities( pygsti.circuits.Circuit([('Gxpi2', 0), ('Gxpi2', 0)], line_labels=(0,1,2)) ))"
   ]
  },
  {
   "cell_type": "code",
   "execution_count": 20,
   "metadata": {},
   "outputs": [
    {
     "data": {
      "text/plain": [
       "{('0e',): -1.6653345369377348e-16,\n",
       " ('0o',): 0.9999999999999996,\n",
       " ('1e',): -3.885780586188048e-16,\n",
       " ('1o',): -5.551115123125783e-17}"
      ]
     },
     "execution_count": 20,
     "metadata": {},
     "output_type": "execute_result"
    }
   ],
   "source": [
    "# Alternatively we can flip the last qubit to get a 0 but odd outcome\n",
    "dict(Z_parity_model.probabilities( pygsti.circuits.Circuit([('Gxpi2', 2), ('Gxpi2', 2)], line_labels=(0,1,2)) ))"
   ]
  },
  {
   "cell_type": "code",
   "execution_count": 21,
   "metadata": {},
   "outputs": [
    {
     "data": {
      "text/plain": [
       "{('0e',): 0.24999999999999992,\n",
       " ('0o',): 0.2499999999999998,\n",
       " ('1e',): 0.24999999999999986,\n",
       " ('1o',): 0.24999999999999975}"
      ]
     },
     "execution_count": 21,
     "metadata": {},
     "output_type": "execute_result"
    }
   ],
   "source": [
    "# And we can do partial flip of qubits 0 and 1 to get a uniform spread over all outcome possibilities\n",
    "dict(Z_parity_model.probabilities( pygsti.circuits.Circuit([('Gxpi2', 0), ('Gxpi2', 1)], line_labels=(0,1,2)) ))"
   ]
  }
 ],
 "metadata": {
  "kernelspec": {
   "display_name": "Python 3 (ipykernel)",
   "language": "python",
   "name": "python3"
  },
  "language_info": {
   "codemirror_mode": {
    "name": "ipython",
    "version": 3
   },
   "file_extension": ".py",
   "mimetype": "text/x-python",
   "name": "python",
   "nbconvert_exporter": "python",
   "pygments_lexer": "ipython3",
   "version": "3.11.5"
  }
 },
 "nbformat": 4,
 "nbformat_minor": 4
}
