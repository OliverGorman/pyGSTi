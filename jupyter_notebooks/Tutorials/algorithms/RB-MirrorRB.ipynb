{
 "cells": [
  {
   "cell_type": "markdown",
   "metadata": {},
   "source": [
    "# Mirror Randomized Benchmarking"
   ]
  },
  {
   "cell_type": "markdown",
   "metadata": {},
   "source": [
    "This tutorial contains a few details on how to run *Mirror Randomized Benchmarking* that are not covered in the [RB overview tutorial](RB-Overview.ipynb).\n",
    "\n",
    "## What is Mirect RB? \n",
    "\n",
    "Like Direct RB, Mirror RB is a streamlined RB method partly inspired by [Clifford RB](RB-CliffordRB.ipynb). It has the same core purpose as Clifford RB - quantifying average gate performance - but it is feasable on more qubits, and it provides more directly useful information. However, Mirror RB is even more streamlined than Direct RB, making it feasable on 10s or 100s of qubits (it is possible to holistically benchmark around $1/\\epsilon$ qubits if the error rate per-gate per-qubit is around $\\epsilon$).\n",
    "\n",
    "Mirror RB can be implemented with non-Clifford gates, but pyGSTi currently only contains Mirror RB for Clifford gates. A depth $m$ ($m\\geq 0$) mirror RB circuit consists of:\n",
    "\n",
    "1. A uniformly random 1-qubit Clifford gate on every qubit. \n",
    "2. A \"compute\" circuit consisting of $m/2$ independently sampled layers of the native Clifford gates in the device, sampled according to a user-specified distribution $\\Omega$. Each of these layers is proceeded by a uniformly random Pauli gate on each qubit.\n",
    "3. A layer of uniformly random Pauli gates.\n",
    "4. An \"uncompute\" circuit consisting of the $m/2$ layers from step (2) in the reverse order with each gate replaced with its inverse. Each of these layers is followed by a uniformly random Pauli gate on each qubit, with these Pauli gates sampled *independently* of the Pauli layers in step (2).\n",
    "5. The inverse of the random 1-qubit Clifford gates in step (1).\n",
    "\n",
    "This construction means that Mirror RB circuits can be much shorter than Clifford RB circuits, or Direct RB circuits. Yet they still have the core randomization properties of both Clifford and Direct RB.\n",
    "\n",
    "**More information on Mirror RB will be added to this tutorial in a future release.**"
   ]
  },
  {
   "cell_type": "code",
   "execution_count": 1,
   "metadata": {},
   "outputs": [],
   "source": [
    "from __future__ import print_function #python 2 & 3 compatibility\n",
    "import pygsti\n",
    "from pygsti.processors import QubitProcessorSpec as QPS\n",
    "from pygsti.processors import CliffordCompilationRules as CCR"
   ]
  },
  {
   "cell_type": "markdown",
   "metadata": {},
   "source": [
    "## Creating a Mirror RB experiment design\n",
    "\n",
    "Generating a Mirror RB experiment design is very similar to creating a Direct RB design. The only difference is that there is no compilation in a Mirror RB circuit, so there is no compilation algorithm to tweak.\n",
    "\n",
    "### 1. Generic RB inputs\n",
    "\n",
    "The first inputs to create a Mirror RB experiment design are the same as in all RB protocols, and these are covered in the [RB overview tutorial](RB-Overview.ipynb). They are:\n",
    "\n",
    "- The device to benchmark (`pspec`).\n",
    "- The \"RB depths\" at which we will sample circuits (`depths`). For Mirror RB, these depths must be even integers. They correspond to the number of total layers in the \"compute\" and \"uncompute\" sub-circuits (but where we don't include the randomized Pauli gates in the layer count). \n",
    "- The number of circuits to sample at each length (`k`).\n",
    "- The qubits to benchmark (`qubits`)."
   ]
  },
  {
   "cell_type": "code",
   "execution_count": 2,
   "metadata": {},
   "outputs": [],
   "source": [
    "# Mirror RB can be run on many many more qubit than this, but this notebook creates simulated data. As \n",
    "# we are using a full density matrix simulator this limits the number of qubits we can use here.\n",
    "n_qubits = 4\n",
    "qubit_labels = ['Q'+str(i) for i in range(n_qubits)] \n",
    "gate_names = ['Gi', 'Gxpi2', 'Gxpi', 'Gxmpi2', 'Gypi2', 'Gypi', 'Gympi2', \n",
    "              'Gzpi2', 'Gzpi', 'Gzmpi2', 'Gcphase'] \n",
    "availability = {'Gcphase':[('Q'+str(i),'Q'+str((i+1) % n_qubits)) for i in range(n_qubits)]}\n",
    "pspec = QPS(n_qubits, gate_names, availability=availability, qubit_labels=qubit_labels)\n",
    "\n",
    "compilations = {'absolute': CCR.create_standard(pspec, 'absolute', ('paulis', '1Qcliffords'), verbosity=0),            \n",
    "                'paulieq': CCR.create_standard(pspec, 'paulieq', ('1Qcliffords', 'allcnots'), verbosity=0)}\n",
    "\n",
    "depths = [0, 2, 4, 8, 16, 32]\n",
    "k = 40\n",
    "qubits = qubit_labels"
   ]
  },
  {
   "cell_type": "markdown",
   "metadata": {},
   "source": [
    "All other arguments to the Mirect RB experiment design generation function `MirectRBDesign` are optional. But, as with Direct RB, to make the most out of Mirect RB it is typically important to at least understand the circuit layer sampling.\n",
    "\n",
    "### 2. The circuit layer sampler\n",
    "Exactly as with Direct RB, the Mirect RB circuit layer sampling distribution $\\Omega$ is perhaps the most important input to the Mirect RB experiment design. This is because, by construction, the Mirect RB error rate $r$ is $\\Omega$-dependent. This $\\Omega$-dependence is useful, because by carefully choosing or varying $\\Omega$ we can learn a lot about device performance. But it also means that the $\\Omega$ has to be carefully chosen! At the very least, **you need to know what sampling distribution you are using in order to interpret the results!**\n",
    "\n",
    "This might seem like a drawback in comparison to Clifford RB, but note that this $\\Omega$-dependence is analogous to the Clifford-compiler dependence of the Clifford RB error rate (with the advantage that it is more easily controlled and understood). And Mirror RB can be run on many, many more qubits!\n",
    "\n",
    "The sampling distribution is specified via the optional arguements `sampler` and `samplerargs`. Here we use what we call the \"edge grab\" sampler. \n",
    "\n",
    "Because both Direct and Mirror RB have the this sampling-distribution dependence, there is a separate [random circuit sampling tutorial](RB-Samplers.ipynb) that introduces the different built-in sampling algorithms within pyGSTi (which includes details of the \"edge grab\" algorithm)."
   ]
  },
  {
   "cell_type": "code",
   "execution_count": 3,
   "metadata": {},
   "outputs": [],
   "source": [
    "sampler = 'edgegrab'\n",
    "samplerargs = [0.5]"
   ]
  },
  {
   "cell_type": "markdown",
   "metadata": {},
   "source": [
    "From here, generating the design and collecting data proceeds as in the RB overview tutorial."
   ]
  },
  {
   "cell_type": "code",
   "execution_count": 4,
   "metadata": {},
   "outputs": [],
   "source": [
    "qubit_error_rate = 0.002\n",
    "def simulate_taking_data(data_template_filename):\n",
    "    \"\"\"Simulate taking data and filling the results into a template dataset.txt file\"\"\"\n",
    "    error_rates = {}\n",
    "    for gn in pspec.gate_names:\n",
    "        n = pspec.gate_num_qubits(gn)\n",
    "        gate_error_rate = n * qubit_error_rate\n",
    "        error_rates[gn] = [gate_error_rate/(4**n - 1)] * (4**n - 1)\n",
    "    noisemodel = pygsti.models.create_crosstalk_free_model(pspec, stochastic_error_probs=error_rates)\n",
    "    pygsti.io.fill_in_empty_dataset_with_fake_data(data_template_filename, noisemodel, num_samples=1000, seed=1234)"
   ]
  },
  {
   "cell_type": "code",
   "execution_count": 5,
   "metadata": {},
   "outputs": [
    {
     "name": "stdout",
     "output_type": "stream",
     "text": [
      "- Sampling 40 circuits at MRB length 0 (1 of 6 depths) with seed 405026\n",
      "- Sampling 40 circuits at MRB length 2 (2 of 6 depths) with seed 405066\n",
      "- Sampling 40 circuits at MRB length 4 (3 of 6 depths) with seed 405106\n",
      "- Sampling 40 circuits at MRB length 8 (4 of 6 depths) with seed 405146\n",
      "- Sampling 40 circuits at MRB length 16 (5 of 6 depths) with seed 405186\n",
      "- Sampling 40 circuits at MRB length 32 (6 of 6 depths) with seed 405226\n"
     ]
    }
   ],
   "source": [
    "design = pygsti.protocols.MirrorRBDesign(pspec, depths, k, qubit_labels=qubits, sampler=sampler, \n",
    "                                         clifford_compilations=compilations, samplerargs=samplerargs)\n",
    "\n",
    "pygsti.io.write_empty_protocol_data('../tutorial_files/test_mrb_dir', design, clobber_ok=True)\n",
    "\n",
    "# -- fill in the dataset file in tutorial_files/test_rb_dir/data/dataset.txt --\n",
    "simulate_taking_data('../tutorial_files/test_mrb_dir/data/dataset.txt') # REPLACE with actual data-taking\n",
    "\n",
    "data = pygsti.io.read_data_from_dir('../tutorial_files/test_mrb_dir')"
   ]
  },
  {
   "cell_type": "markdown",
   "metadata": {},
   "source": [
    "## Running the Mirror RB protocol\n",
    "As with all RB methods in pyGSTi, to analyze the data we instantiate an `RB` protocol and `.run` it on our data object.  However, there is a slight difference for Mirror RB. Mirror RB doesn't fit simple success/fail format data: instead it fits what we call *Hamming weight adjusted success probabilities* to an exponential decay ($P_m = A + B p^m$ where $P_m$ is the average adjusted success probability at RB length $m$). \n",
    "\n",
    "To obtain this data analysis we simply specify the data type when instantiate an `RB` protocol: we set `datatype = adjusted_success_probabilities`."
   ]
  },
  {
   "cell_type": "code",
   "execution_count": 6,
   "metadata": {},
   "outputs": [
    {
     "ename": "NameError",
     "evalue": "name 'sampledHDcounts' is not defined",
     "output_type": "error",
     "traceback": [
      "\u001b[0;31m---------------------------------------------------------------------------\u001b[0m",
      "\u001b[0;31mNameError\u001b[0m                                 Traceback (most recent call last)",
      "Cell \u001b[0;32mIn [6], line 2\u001b[0m\n\u001b[1;32m      1\u001b[0m protocol \u001b[38;5;241m=\u001b[39m pygsti\u001b[38;5;241m.\u001b[39mprotocols\u001b[38;5;241m.\u001b[39mRB(datatype \u001b[38;5;241m=\u001b[39m \u001b[38;5;124m'\u001b[39m\u001b[38;5;124madjusted_success_probabilities\u001b[39m\u001b[38;5;124m'\u001b[39m, defaultfit\u001b[38;5;241m=\u001b[39m\u001b[38;5;124m'\u001b[39m\u001b[38;5;124mA-fixed\u001b[39m\u001b[38;5;124m'\u001b[39m)\n\u001b[0;32m----> 2\u001b[0m results \u001b[38;5;241m=\u001b[39m \u001b[43mprotocol\u001b[49m\u001b[38;5;241;43m.\u001b[39;49m\u001b[43mrun\u001b[49m\u001b[43m(\u001b[49m\u001b[43mdata\u001b[49m\u001b[43m)\u001b[49m\n\u001b[1;32m      3\u001b[0m ws \u001b[38;5;241m=\u001b[39m pygsti\u001b[38;5;241m.\u001b[39mreport\u001b[38;5;241m.\u001b[39mWorkspace()\n\u001b[1;32m      4\u001b[0m ws\u001b[38;5;241m.\u001b[39minit_notebook_mode(autodisplay\u001b[38;5;241m=\u001b[39m\u001b[38;5;28;01mTrue\u001b[39;00m)\n",
      "File \u001b[0;32m~/pyGSTi/pygsti/protocols/rb.py:1147\u001b[0m, in \u001b[0;36mRandomizedBenchmarking.run\u001b[0;34m(self, data, memlimit, comm)\u001b[0m\n\u001b[1;32m   1142\u001b[0m \u001b[38;5;66;03m#Store bootstrap \"cache\" dicts (containing summary keys) as a list under data.cache\u001b[39;00m\n\u001b[1;32m   1143\u001b[0m \u001b[38;5;66;03m#print(len(data.cache['bootstraps']))\u001b[39;00m\n\u001b[1;32m   1144\u001b[0m \u001b[38;5;28;01mif\u001b[39;00m \u001b[38;5;124m'\u001b[39m\u001b[38;5;124mbootstraps\u001b[39m\u001b[38;5;124m'\u001b[39m \u001b[38;5;129;01mnot\u001b[39;00m \u001b[38;5;129;01min\u001b[39;00m data\u001b[38;5;241m.\u001b[39mcache \u001b[38;5;129;01mor\u001b[39;00m \u001b[38;5;28mlen\u001b[39m(data\u001b[38;5;241m.\u001b[39mcache[\u001b[38;5;124m'\u001b[39m\u001b[38;5;124mbootstraps\u001b[39m\u001b[38;5;124m'\u001b[39m]) \u001b[38;5;241m<\u001b[39m \u001b[38;5;28mself\u001b[39m\u001b[38;5;241m.\u001b[39mbootstrap_samples:\n\u001b[1;32m   1145\u001b[0m     \u001b[38;5;66;03m# TIM - finite counts always True here?\u001b[39;00m\n\u001b[1;32m   1146\u001b[0m     \u001b[38;5;66;03m#print('adding bootstrap')\u001b[39;00m\n\u001b[0;32m-> 1147\u001b[0m     \u001b[38;5;28;43mself\u001b[39;49m\u001b[38;5;241;43m.\u001b[39;49m\u001b[43m_add_bootstrap_qtys\u001b[49m\u001b[43m(\u001b[49m\u001b[43mdata\u001b[49m\u001b[38;5;241;43m.\u001b[39;49m\u001b[43mcache\u001b[49m\u001b[43m,\u001b[49m\u001b[43m \u001b[49m\u001b[38;5;28;43mself\u001b[39;49m\u001b[38;5;241;43m.\u001b[39;49m\u001b[43mbootstrap_samples\u001b[49m\u001b[43m,\u001b[49m\u001b[43m \u001b[49m\u001b[43mfinitecounts\u001b[49m\u001b[38;5;241;43m=\u001b[39;49m\u001b[38;5;28;43;01mTrue\u001b[39;49;00m\u001b[43m)\u001b[49m\n\u001b[1;32m   1148\u001b[0m bootstrap_caches \u001b[38;5;241m=\u001b[39m data\u001b[38;5;241m.\u001b[39mcache[\u001b[38;5;124m'\u001b[39m\u001b[38;5;124mbootstraps\u001b[39m\u001b[38;5;124m'\u001b[39m]  \u001b[38;5;66;03m# if finitecounts else 'infbootstraps'\u001b[39;00m\n\u001b[1;32m   1150\u001b[0m \u001b[38;5;28;01mfor\u001b[39;00m bootstrap_cache \u001b[38;5;129;01min\u001b[39;00m bootstrap_caches:\n",
      "File \u001b[0;32m~/pyGSTi/pygsti/protocols/vb.py:706\u001b[0m, in \u001b[0;36mSummaryStatistics._add_bootstrap_qtys\u001b[0;34m(self, data_cache, num_qtys, finitecounts)\u001b[0m\n\u001b[1;32m    704\u001b[0m totalcounts \u001b[38;5;241m=\u001b[39m total_counts[depth][ind] \u001b[38;5;28;01mif\u001b[39;00m finitecounts \u001b[38;5;28;01melse\u001b[39;00m \u001b[38;5;28;01mNone\u001b[39;00m  \u001b[38;5;66;03m# need this if a new randint\u001b[39;00m\n\u001b[1;32m    705\u001b[0m \u001b[38;5;66;03m#sampledE = (energies[depth][ind]+1)/2\u001b[39;00m\n\u001b[0;32m--> 706\u001b[0m sampledHDpdf \u001b[38;5;241m=\u001b[39m _np\u001b[38;5;241m.\u001b[39marray(\u001b[43msampledHDcounts\u001b[49m) \u001b[38;5;241m/\u001b[39m _np\u001b[38;5;241m.\u001b[39msum(sampledHDcounts)\n\u001b[1;32m    707\u001b[0m \u001b[38;5;28;01mif\u001b[39;00m exists_hds:\n\u001b[1;32m    708\u001b[0m     \u001b[38;5;28;01mif\u001b[39;00m finitecounts:\n",
      "\u001b[0;31mNameError\u001b[0m: name 'sampledHDcounts' is not defined"
     ]
    }
   ],
   "source": [
    "protocol = pygsti.protocols.RB(datatype = 'adjusted_success_probabilities', defaultfit='A-fixed')\n",
    "results = protocol.run(data)\n",
    "ws = pygsti.report.Workspace()\n",
    "ws.init_notebook_mode(autodisplay=True)\n",
    "ws.RandomizedBenchmarkingPlot(results)"
   ]
  },
  {
   "cell_type": "code",
   "execution_count": null,
   "metadata": {},
   "outputs": [],
   "source": [
    "# The error rate we *approximately* expect accord to Mirror RB theory\n",
    "print(1 - (1 - qubit_error_rate)**(2 * len(qubits)))"
   ]
  }
 ],
 "metadata": {
  "kernelspec": {
   "display_name": "Python 3 (ipykernel)",
   "language": "python",
   "name": "python3"
  },
  "language_info": {
   "codemirror_mode": {
    "name": "ipython",
    "version": 3
   },
   "file_extension": ".py",
   "mimetype": "text/x-python",
   "name": "python",
   "nbconvert_exporter": "python",
   "pygments_lexer": "ipython3",
   "version": "3.8.0"
  }
 },
 "nbformat": 4,
 "nbformat_minor": 4
}
