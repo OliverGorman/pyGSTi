{
 "cells": [
  {
   "cell_type": "markdown",
   "metadata": {},
   "source": [
    "# ModelMemberGraph and Serialization\n",
    "\n",
    "Example notebook of ModelMemberGraph functionality"
   ]
  },
  {
   "cell_type": "code",
   "execution_count": 1,
   "metadata": {},
   "outputs": [],
   "source": [
    "import numpy as np\n",
    "\n",
    "import pygsti"
   ]
  },
  {
   "cell_type": "code",
   "execution_count": 2,
   "metadata": {},
   "outputs": [],
   "source": [
    "from pygsti.modelpacks import smq2Q_XYICNOT"
   ]
  },
  {
   "cell_type": "markdown",
   "metadata": {},
   "source": [
    "# Similar/Equivalent"
   ]
  },
  {
   "cell_type": "code",
   "execution_count": 3,
   "metadata": {},
   "outputs": [],
   "source": [
    "ex_mdl1 = smq2Q_XYICNOT.target_model()\n",
    "ex_mdl2 = ex_mdl1.copy()"
   ]
  },
  {
   "cell_type": "code",
   "execution_count": 4,
   "metadata": {},
   "outputs": [],
   "source": [
    "ex_mmg1 = ex_mdl1.create_modelmember_graph()"
   ]
  },
  {
   "cell_type": "code",
   "execution_count": 5,
   "metadata": {},
   "outputs": [
    {
     "name": "stdout",
     "output_type": "stream",
     "text": [
      "Modelmember type: preps\n",
      "  rho0: FullState (0)\n",
      "Modelmember type: povms\n",
      "  Mdefault: UnconstrainedPOVM (1)\n",
      "Modelmember type: operations\n",
      "  []: FullArbitraryOp (2)\n",
      "  Gxpi2:1: FullArbitraryOp (3)\n",
      "  Gypi2:1: FullArbitraryOp (4)\n",
      "  Gxpi2:0: FullArbitraryOp (5)\n",
      "  Gypi2:0: FullArbitraryOp (6)\n",
      "  Gcnot:0:1: FullArbitraryOp (7)\n",
      "Modelmember type: instruments\n",
      "Modelmember type: factories\n"
     ]
    }
   ],
   "source": [
    "ex_mmg1.print_graph()"
   ]
  },
  {
   "cell_type": "code",
   "execution_count": 6,
   "metadata": {},
   "outputs": [
    {
     "data": {
      "text/plain": [
       "<pygsti.modelmembers.modelmembergraph.MMGNode at 0x1531926d0>"
      ]
     },
     "execution_count": 6,
     "metadata": {},
     "output_type": "execute_result"
    }
   ],
   "source": [
    "ex_mmg1.mm_nodes['operations']['Gxpi2', 0]"
   ]
  },
  {
   "cell_type": "code",
   "execution_count": 7,
   "metadata": {},
   "outputs": [
    {
     "name": "stdout",
     "output_type": "stream",
     "text": [
      "True\n",
      "True\n"
     ]
    }
   ],
   "source": [
    "ex_mmg2 = ex_mdl2.create_modelmember_graph()\n",
    "print(ex_mmg1.is_similar(ex_mmg2))\n",
    "print(ex_mmg1.is_equivalent(ex_mmg2))"
   ]
  },
  {
   "cell_type": "code",
   "execution_count": 8,
   "metadata": {},
   "outputs": [
    {
     "name": "stdout",
     "output_type": "stream",
     "text": [
      "True\n",
      "False\n"
     ]
    }
   ],
   "source": [
    "ex_mdl2.operations['Gxpi2', 0][0, 0] = 0.0\n",
    "ex_mmg2 = ex_mdl2.create_modelmember_graph()\n",
    "print(ex_mmg1.is_similar(ex_mmg2))\n",
    "print(ex_mmg1.is_equivalent(ex_mmg2))"
   ]
  },
  {
   "cell_type": "code",
   "execution_count": 9,
   "metadata": {},
   "outputs": [
    {
     "name": "stdout",
     "output_type": "stream",
     "text": [
      "False\n",
      "False\n"
     ]
    }
   ],
   "source": [
    "ex_mdl2.operations['Gxpi2', 0] = pygsti.modelmembers.operations.StaticArbitraryOp(ex_mdl2.operations['Gxpi2', 0])\n",
    "ex_mmg2 = ex_mdl2.create_modelmember_graph()\n",
    "print(ex_mmg1.is_similar(ex_mmg2))\n",
    "print(ex_mmg1.is_equivalent(ex_mmg2))"
   ]
  },
  {
   "cell_type": "code",
   "execution_count": 10,
   "metadata": {},
   "outputs": [
    {
     "name": "stdout",
     "output_type": "stream",
     "text": [
      "layers:rho0 = Computational Z-basis state vec for 2 qubits w/z-values: [0 0]\n",
      "\n",
      "layers:Mdefault = Computational(Z)-basis POVM on 2 qubits and filter None\n",
      "\n",
      "\n",
      "layers:(auto_global_idle) = \n",
      "Composed operation of 2 factors:\n",
      "Factor 0:\n",
      "Embedded operation with full dimension 16 and state space QubitSpace((0, 1))\n",
      " that embeds the following 4-dimensional operation into acting on the (0,) space\n",
      "StaticStandardOp with name Gi and evotype densitymx\n",
      "Factor 1:\n",
      "Embedded operation with full dimension 16 and state space QubitSpace((0, 1))\n",
      " that embeds the following 4-dimensional operation into acting on the (1,) space\n",
      "StaticStandardOp with name Gi and evotype densitymx\n",
      "\n",
      "\n",
      "layers:Gi:0 = \n",
      "Embedded operation with full dimension 16 and state space QubitSpace((0, 1))\n",
      " that embeds the following 4-dimensional operation into acting on the (0,) space\n",
      "StaticStandardOp with name Gi and evotype densitymx\n",
      "\n",
      "\n",
      "layers:Gi:1 = \n",
      "Embedded operation with full dimension 16 and state space QubitSpace((0, 1))\n",
      " that embeds the following 4-dimensional operation into acting on the (1,) space\n",
      "StaticStandardOp with name Gi and evotype densitymx\n",
      "\n",
      "\n",
      "layers:Gxpi2:0 = \n",
      "Embedded operation with full dimension 16 and state space QubitSpace((0, 1))\n",
      " that embeds the following 4-dimensional operation into acting on the (0,) space\n",
      "Composed operation of 2 factors:\n",
      "Factor 0:\n",
      "StaticStandardOp with name Gxpi2 and evotype densitymx\n",
      "Factor 1:\n",
      "Depolarize noise operation map with dim = 4, num params = 1\n",
      "Strength: [0.1]\n",
      "\n",
      "\n",
      "layers:Gxpi2:1 = \n",
      "Embedded operation with full dimension 16 and state space QubitSpace((0, 1))\n",
      " that embeds the following 4-dimensional operation into acting on the (1,) space\n",
      "StaticStandardOp with name Gxpi2 and evotype densitymx\n",
      "\n",
      "\n",
      "layers:Gypi2:0 = \n",
      "Embedded operation with full dimension 16 and state space QubitSpace((0, 1))\n",
      " that embeds the following 4-dimensional operation into acting on the (0,) space\n",
      "StaticStandardOp with name Gypi2 and evotype densitymx\n",
      "\n",
      "\n",
      "layers:Gypi2:1 = \n",
      "Embedded operation with full dimension 16 and state space QubitSpace((0, 1))\n",
      " that embeds the following 4-dimensional operation into acting on the (1,) space\n",
      "Composed operation of 2 factors:\n",
      "Factor 0:\n",
      "StaticStandardOp with name Gypi2 and evotype densitymx\n",
      "Factor 1:\n",
      "Lindblad Parameterized operation map with dim = 4, num params = 2\n",
      "\n",
      "\n",
      "layers:mygate:0 = \n",
      "Embedded operation with full dimension 16 and state space QubitSpace((0, 1))\n",
      " that embeds the following 4-dimensional operation into acting on the (0,) space\n",
      "Composed operation of 2 factors:\n",
      "Factor 0:\n",
      "StaticUnitaryOp with shape (2, 2)\n",
      " 1.00   0\n",
      "   0 1.00\n",
      "Factor 1:\n",
      "Depolarize noise operation map with dim = 4, num params = 1\n",
      "Strength: [0.2]\n",
      "\n",
      "\n",
      "layers:mygate:1 = \n",
      "Embedded operation with full dimension 16 and state space QubitSpace((0, 1))\n",
      " that embeds the following 4-dimensional operation into acting on the (1,) space\n",
      "StaticUnitaryOp with shape (2, 2)\n",
      " 1.00   0\n",
      "   0 1.00\n",
      "\n",
      "\n",
      "gates:Gi = \n",
      "StaticStandardOp with name Gi and evotype densitymx\n",
      "\n",
      "\n",
      "gates:Gxpi2 = \n",
      "StaticStandardOp with name Gxpi2 and evotype densitymx\n",
      "\n",
      "\n",
      "gates:Gxpi2:0 = \n",
      "Composed operation of 2 factors:\n",
      "Factor 0:\n",
      "StaticStandardOp with name Gxpi2 and evotype densitymx\n",
      "Factor 1:\n",
      "Depolarize noise operation map with dim = 4, num params = 1\n",
      "Strength: [0.1]\n",
      "\n",
      "\n",
      "gates:Gypi2 = \n",
      "StaticStandardOp with name Gypi2 and evotype densitymx\n",
      "\n",
      "\n",
      "gates:Gypi2:1 = \n",
      "Composed operation of 2 factors:\n",
      "Factor 0:\n",
      "StaticStandardOp with name Gypi2 and evotype densitymx\n",
      "Factor 1:\n",
      "Lindblad Parameterized operation map with dim = 4, num params = 2\n",
      "\n",
      "\n",
      "gates:mygate = \n",
      "StaticUnitaryOp with shape (2, 2)\n",
      " 1.00   0\n",
      "   0 1.00\n",
      "\n",
      "\n",
      "gates:mygate:0 = \n",
      "Composed operation of 2 factors:\n",
      "Factor 0:\n",
      "StaticUnitaryOp with shape (2, 2)\n",
      " 1.00   0\n",
      "   0 1.00\n",
      "Factor 1:\n",
      "Depolarize noise operation map with dim = 4, num params = 1\n",
      "Strength: [0.2]\n",
      "\n",
      "\n",
      "\n",
      "\n",
      "\n"
     ]
    }
   ],
   "source": [
    "pspec = pygsti.processors.QubitProcessorSpec(2, ['Gi', 'Gxpi2', 'Gypi2', 'mygate'], geometry='line', nonstd_gate_unitaries={'mygate': np.eye(2, dtype='complex')})\n",
    "\n",
    "ln_mdl1 = pygsti.models.create_crosstalk_free_model(pspec,\n",
    "                                                    depolarization_strengths={('Gxpi2', 0): 0.1, ('mygate', 0): 0.2},\n",
    "                                                    lindblad_error_coeffs={('Gypi2', 1): {('H', 1): 0.2, ('S', 2): 0.3}})\n",
    "print(ln_mdl1)"
   ]
  },
  {
   "cell_type": "code",
   "execution_count": 11,
   "metadata": {},
   "outputs": [
    {
     "name": "stdout",
     "output_type": "stream",
     "text": [
      "Modelmember type: prep_blks_layers\n",
      "  rho0: ComputationalBasisState (0)\n",
      "Modelmember type: povm_blks_layers\n",
      "  Mdefault: ComputationalBasisPOVM (1)\n",
      "Modelmember type: operation_blks_layers\n",
      "  (auto_global_idle): ComposedOp (5)\n",
      "    EmbeddedOp (3)\n",
      "      StaticStandardOp (2)\n",
      "    EmbeddedOp (4)\n",
      "      StaticStandardOp (2)\n",
      "  Gi:0: EmbeddedOp (6)\n",
      "    StaticStandardOp (2)\n",
      "  Gi:1: EmbeddedOp (7)\n",
      "    StaticStandardOp (2)\n",
      "  Gxpi2:0: EmbeddedOp (11)\n",
      "    ComposedOp (10)\n",
      "      StaticStandardOp (8)\n",
      "      DepolarizeOp (9)\n",
      "  Gxpi2:1: EmbeddedOp (12)\n",
      "    StaticStandardOp (8)\n",
      "  Gypi2:0: EmbeddedOp (14)\n",
      "    StaticStandardOp (13)\n",
      "  Gypi2:1: EmbeddedOp (18)\n",
      "    ComposedOp (17)\n",
      "      StaticStandardOp (13)\n",
      "      ExpErrorgenOp (16)\n",
      "        LindbladErrorgen (15)\n",
      "  mygate:0: EmbeddedOp (22)\n",
      "    ComposedOp (21)\n",
      "      StaticUnitaryOp (19)\n",
      "      DepolarizeOp (20)\n",
      "  mygate:1: EmbeddedOp (23)\n",
      "    StaticUnitaryOp (19)\n",
      "Modelmember type: operation_blks_gates\n",
      "  Gi: StaticStandardOp (2)\n",
      "  Gxpi2: StaticStandardOp (8)\n",
      "  Gxpi2:0: ComposedOp (10)\n",
      "    StaticStandardOp (8)\n",
      "    DepolarizeOp (9)\n",
      "  Gypi2: StaticStandardOp (13)\n",
      "  Gypi2:1: ComposedOp (17)\n",
      "    StaticStandardOp (13)\n",
      "    ExpErrorgenOp (16)\n",
      "      LindbladErrorgen (15)\n",
      "  mygate: StaticUnitaryOp (19)\n",
      "  mygate:0: ComposedOp (21)\n",
      "    StaticUnitaryOp (19)\n",
      "    DepolarizeOp (20)\n",
      "Modelmember type: instrument_blks_layers\n",
      "Modelmember type: factories_gates\n",
      "Modelmember type: factories_layers\n"
     ]
    }
   ],
   "source": [
    "ln_mmg1 = ln_mdl1.create_modelmember_graph()\n",
    "ln_mmg1.print_graph()"
   ]
  },
  {
   "cell_type": "code",
   "execution_count": 12,
   "metadata": {},
   "outputs": [
    {
     "name": "stdout",
     "output_type": "stream",
     "text": [
      "False\n",
      "False\n"
     ]
    }
   ],
   "source": [
    "# Should be exactly the same\n",
    "ln_mdl2 = pygsti.models.create_crosstalk_free_model(pspec,\n",
    "                                                    depolarization_strengths={('Gxpi2', 0): 0.1},\n",
    "                                                    lindblad_error_coeffs={('Gypi2', 1): {('H', 1): 0.2, ('S', 2): 0.3}})\n",
    "ln_mmg2 = ln_mdl2.create_modelmember_graph()\n",
    "print(ln_mmg1.is_similar(ln_mmg2))\n",
    "print(ln_mmg1.is_equivalent(ln_mmg2))"
   ]
  },
  {
   "cell_type": "code",
   "execution_count": 13,
   "metadata": {},
   "outputs": [
    {
     "name": "stdout",
     "output_type": "stream",
     "text": [
      "False\n",
      "False\n"
     ]
    }
   ],
   "source": [
    "# Should be similar if we change params\n",
    "ln_mdl3 = pygsti.models.create_crosstalk_free_model(pspec,\n",
    "                                                    depolarization_strengths={('Gxpi2', 0): 0.01},\n",
    "                                                    lindblad_error_coeffs={('Gypi2', 1): {('H', 1): 0.5, ('S', 2): 0.1}})\n",
    "ln_mmg3 = ln_mdl3.create_modelmember_graph()\n",
    "print(ln_mmg1.is_similar(ln_mmg3))\n",
    "print(ln_mmg1.is_equivalent(ln_mmg3))"
   ]
  },
  {
   "cell_type": "code",
   "execution_count": 14,
   "metadata": {},
   "outputs": [
    {
     "name": "stdout",
     "output_type": "stream",
     "text": [
      "False\n",
      "False\n"
     ]
    }
   ],
   "source": [
    "# Should fail both, depolarize is on different gate\n",
    "ln_mdl4 = pygsti.models.create_crosstalk_free_model(pspec,\n",
    "                                                    depolarization_strengths={('Gypi2', 0): 0.1},\n",
    "                                                    lindblad_error_coeffs={('Gypi2', 1): {('H', 1): 0.2, ('S', 2): 0.3}})\n",
    "ln_mmg4 = ln_mdl4.create_modelmember_graph()\n",
    "print(ln_mmg1.is_similar(ln_mmg4))\n",
    "print(ln_mmg1.is_equivalent(ln_mmg4))"
   ]
  },
  {
   "cell_type": "markdown",
   "metadata": {},
   "source": [
    "# Serialization"
   ]
  },
  {
   "cell_type": "code",
   "execution_count": 15,
   "metadata": {},
   "outputs": [],
   "source": [
    "pygsti.io.write_model_json(ex_mdl1, 'example_files/ex_mdl1.json')"
   ]
  },
  {
   "cell_type": "code",
   "execution_count": 16,
   "metadata": {},
   "outputs": [],
   "source": [
    "pygsti.io.write_model_json(ln_mdl1, 'example_files/ln_mdl1.json')"
   ]
  },
  {
   "cell_type": "code",
   "execution_count": null,
   "metadata": {},
   "outputs": [],
   "source": []
  }
 ],
 "metadata": {
  "interpreter": {
   "hash": "38bc3ecdefa6d4ad98c3e3909d821405273dd289f85d5c490bf102ec408e5058"
  },
  "kernelspec": {
   "display_name": "Python 3 (pygsti -e install)",
   "language": "python",
   "name": "pygsti"
  },
  "language_info": {
   "codemirror_mode": {
    "name": "ipython",
    "version": 3
   },
   "file_extension": ".py",
   "mimetype": "text/x-python",
   "name": "python",
   "nbconvert_exporter": "python",
   "pygments_lexer": "ipython3",
   "version": "3.8.11"
  }
 },
 "nbformat": 4,
 "nbformat_minor": 4
}
